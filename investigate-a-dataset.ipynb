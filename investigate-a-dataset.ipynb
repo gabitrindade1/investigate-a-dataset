{
 "cells": [
  {
   "cell_type": "markdown",
   "metadata": {},
   "source": [
    "# Investigate the TMDb movie dataset\n",
    "\n",
    "## Table of Contents\n",
    "<ul>\n",
    "<li><a href=\"#intro\">Introduction</a></li>\n",
    "<li><a href=\"#wrangling\">Data Wrangling</a></li>\n",
    "<li><a href=\"#eda\">Exploratory Data Analysis</a></li>\n",
    "<li><a href=\"#conclusions\">Conclusions</a></li>\n",
    "</ul>"
   ]
  },
  {
   "cell_type": "markdown",
   "metadata": {},
   "source": [
    "<a id='intro'></a>\n",
    "## Introduction\n",
    "\n",
    "> This project was written for Udacity’s Data Analyst nanodegree program. The primary goal is to investigate a dataset performing the entire data analysis process with python and libraries such as numpy, pandas and matplotlib.\n",
    ">\n",
    "> The TMDb movie dataset was chosen for this purpose. This dataset, which was cleaned from original data on [Kaggle](https://www.kaggle.com/tmdb/tmdb-movie-metadata), contains basic information about more than 10 thousand movies, produced between 1960 and 2015.\n",
    ">\n",
    "> The scope of this project is very restrict, limited to discussing a few aspects of movies that can be considered a _**success**_. It is assumed that two variables can measure the success of a movie, **vote average scores** and **revenues**, although others can also be used for this purpose.\n",
    ">\n",
    "> In the Exploratory Data Analysis section, the following questions will be answered to provide some insights into the data:\n",
    "> 1. What is the \"vote average\" mean for each genre? And what are the top 3 genres in terms of the highest \"vote average\" mean?\n",
    "> 2. For the movies with the 25% highest vote averages, what is the \"vote average\" mean in each genre? And what are the top 3 genres in terms of the highest\"vote average\" mean?\n",
    "> 3. How does budget correlate to revenue?\n",
    "> 4. What are the movie genres with the highest mean revenue?"
   ]
  },
  {
   "cell_type": "code",
   "execution_count": 1,
   "metadata": {},
   "outputs": [],
   "source": [
    "#imports required libraries:\n",
    "import pandas as pd\n",
    "import numpy as np\n",
    "import matplotlib.pyplot as plt\n",
    "import seaborn as sns\n",
    "%matplotlib inline"
   ]
  },
  {
   "cell_type": "markdown",
   "metadata": {},
   "source": [
    "<a id='wrangling'></a>\n",
    "## Data Wrangling\n",
    "\n",
    "### General Properties"
   ]
  },
  {
   "cell_type": "code",
   "execution_count": 2,
   "metadata": {},
   "outputs": [
    {
     "data": {
      "text/html": [
       "<div>\n",
       "<style scoped>\n",
       "    .dataframe tbody tr th:only-of-type {\n",
       "        vertical-align: middle;\n",
       "    }\n",
       "\n",
       "    .dataframe tbody tr th {\n",
       "        vertical-align: top;\n",
       "    }\n",
       "\n",
       "    .dataframe thead th {\n",
       "        text-align: right;\n",
       "    }\n",
       "</style>\n",
       "<table border=\"1\" class=\"dataframe\">\n",
       "  <thead>\n",
       "    <tr style=\"text-align: right;\">\n",
       "      <th></th>\n",
       "      <th>id</th>\n",
       "      <th>imdb_id</th>\n",
       "      <th>popularity</th>\n",
       "      <th>budget</th>\n",
       "      <th>revenue</th>\n",
       "      <th>original_title</th>\n",
       "      <th>cast</th>\n",
       "      <th>homepage</th>\n",
       "      <th>director</th>\n",
       "      <th>tagline</th>\n",
       "      <th>...</th>\n",
       "      <th>overview</th>\n",
       "      <th>runtime</th>\n",
       "      <th>genres</th>\n",
       "      <th>production_companies</th>\n",
       "      <th>release_date</th>\n",
       "      <th>vote_count</th>\n",
       "      <th>vote_average</th>\n",
       "      <th>release_year</th>\n",
       "      <th>budget_adj</th>\n",
       "      <th>revenue_adj</th>\n",
       "    </tr>\n",
       "  </thead>\n",
       "  <tbody>\n",
       "    <tr>\n",
       "      <th>0</th>\n",
       "      <td>135397</td>\n",
       "      <td>tt0369610</td>\n",
       "      <td>32.99</td>\n",
       "      <td>150000000</td>\n",
       "      <td>1513528810</td>\n",
       "      <td>Jurassic World</td>\n",
       "      <td>Chris Pratt|Bryce Dallas Howard|Irrfan Khan|Vi...</td>\n",
       "      <td>http://www.jurassicworld.com/</td>\n",
       "      <td>Colin Trevorrow</td>\n",
       "      <td>The park is open.</td>\n",
       "      <td>...</td>\n",
       "      <td>Twenty-two years after the events of Jurassic ...</td>\n",
       "      <td>124</td>\n",
       "      <td>Action|Adventure|Science Fiction|Thriller</td>\n",
       "      <td>Universal Studios|Amblin Entertainment|Legenda...</td>\n",
       "      <td>6/9/15</td>\n",
       "      <td>5562</td>\n",
       "      <td>6.50</td>\n",
       "      <td>2015</td>\n",
       "      <td>137999939.28</td>\n",
       "      <td>1392445892.52</td>\n",
       "    </tr>\n",
       "    <tr>\n",
       "      <th>1</th>\n",
       "      <td>76341</td>\n",
       "      <td>tt1392190</td>\n",
       "      <td>28.42</td>\n",
       "      <td>150000000</td>\n",
       "      <td>378436354</td>\n",
       "      <td>Mad Max: Fury Road</td>\n",
       "      <td>Tom Hardy|Charlize Theron|Hugh Keays-Byrne|Nic...</td>\n",
       "      <td>http://www.madmaxmovie.com/</td>\n",
       "      <td>George Miller</td>\n",
       "      <td>What a Lovely Day.</td>\n",
       "      <td>...</td>\n",
       "      <td>An apocalyptic story set in the furthest reach...</td>\n",
       "      <td>120</td>\n",
       "      <td>Action|Adventure|Science Fiction|Thriller</td>\n",
       "      <td>Village Roadshow Pictures|Kennedy Miller Produ...</td>\n",
       "      <td>5/13/15</td>\n",
       "      <td>6185</td>\n",
       "      <td>7.10</td>\n",
       "      <td>2015</td>\n",
       "      <td>137999939.28</td>\n",
       "      <td>348161292.49</td>\n",
       "    </tr>\n",
       "    <tr>\n",
       "      <th>2</th>\n",
       "      <td>262500</td>\n",
       "      <td>tt2908446</td>\n",
       "      <td>13.11</td>\n",
       "      <td>110000000</td>\n",
       "      <td>295238201</td>\n",
       "      <td>Insurgent</td>\n",
       "      <td>Shailene Woodley|Theo James|Kate Winslet|Ansel...</td>\n",
       "      <td>http://www.thedivergentseries.movie/#insurgent</td>\n",
       "      <td>Robert Schwentke</td>\n",
       "      <td>One Choice Can Destroy You</td>\n",
       "      <td>...</td>\n",
       "      <td>Beatrice Prior must confront her inner demons ...</td>\n",
       "      <td>119</td>\n",
       "      <td>Adventure|Science Fiction|Thriller</td>\n",
       "      <td>Summit Entertainment|Mandeville Films|Red Wago...</td>\n",
       "      <td>3/18/15</td>\n",
       "      <td>2480</td>\n",
       "      <td>6.30</td>\n",
       "      <td>2015</td>\n",
       "      <td>101199955.47</td>\n",
       "      <td>271619025.41</td>\n",
       "    </tr>\n",
       "    <tr>\n",
       "      <th>3</th>\n",
       "      <td>140607</td>\n",
       "      <td>tt2488496</td>\n",
       "      <td>11.17</td>\n",
       "      <td>200000000</td>\n",
       "      <td>2068178225</td>\n",
       "      <td>Star Wars: The Force Awakens</td>\n",
       "      <td>Harrison Ford|Mark Hamill|Carrie Fisher|Adam D...</td>\n",
       "      <td>http://www.starwars.com/films/star-wars-episod...</td>\n",
       "      <td>J.J. Abrams</td>\n",
       "      <td>Every generation has a story.</td>\n",
       "      <td>...</td>\n",
       "      <td>Thirty years after defeating the Galactic Empi...</td>\n",
       "      <td>136</td>\n",
       "      <td>Action|Adventure|Science Fiction|Fantasy</td>\n",
       "      <td>Lucasfilm|Truenorth Productions|Bad Robot</td>\n",
       "      <td>12/15/15</td>\n",
       "      <td>5292</td>\n",
       "      <td>7.50</td>\n",
       "      <td>2015</td>\n",
       "      <td>183999919.04</td>\n",
       "      <td>1902723129.80</td>\n",
       "    </tr>\n",
       "    <tr>\n",
       "      <th>4</th>\n",
       "      <td>168259</td>\n",
       "      <td>tt2820852</td>\n",
       "      <td>9.34</td>\n",
       "      <td>190000000</td>\n",
       "      <td>1506249360</td>\n",
       "      <td>Furious 7</td>\n",
       "      <td>Vin Diesel|Paul Walker|Jason Statham|Michelle ...</td>\n",
       "      <td>http://www.furious7.com/</td>\n",
       "      <td>James Wan</td>\n",
       "      <td>Vengeance Hits Home</td>\n",
       "      <td>...</td>\n",
       "      <td>Deckard Shaw seeks revenge against Dominic Tor...</td>\n",
       "      <td>137</td>\n",
       "      <td>Action|Crime|Thriller</td>\n",
       "      <td>Universal Pictures|Original Film|Media Rights ...</td>\n",
       "      <td>4/1/15</td>\n",
       "      <td>2947</td>\n",
       "      <td>7.30</td>\n",
       "      <td>2015</td>\n",
       "      <td>174799923.09</td>\n",
       "      <td>1385748801.47</td>\n",
       "    </tr>\n",
       "  </tbody>\n",
       "</table>\n",
       "<p>5 rows × 21 columns</p>\n",
       "</div>"
      ],
      "text/plain": [
       "       id    imdb_id  popularity     budget     revenue  \\\n",
       "0  135397  tt0369610       32.99  150000000  1513528810   \n",
       "1   76341  tt1392190       28.42  150000000   378436354   \n",
       "2  262500  tt2908446       13.11  110000000   295238201   \n",
       "3  140607  tt2488496       11.17  200000000  2068178225   \n",
       "4  168259  tt2820852        9.34  190000000  1506249360   \n",
       "\n",
       "                 original_title  \\\n",
       "0                Jurassic World   \n",
       "1            Mad Max: Fury Road   \n",
       "2                     Insurgent   \n",
       "3  Star Wars: The Force Awakens   \n",
       "4                     Furious 7   \n",
       "\n",
       "                                                cast  \\\n",
       "0  Chris Pratt|Bryce Dallas Howard|Irrfan Khan|Vi...   \n",
       "1  Tom Hardy|Charlize Theron|Hugh Keays-Byrne|Nic...   \n",
       "2  Shailene Woodley|Theo James|Kate Winslet|Ansel...   \n",
       "3  Harrison Ford|Mark Hamill|Carrie Fisher|Adam D...   \n",
       "4  Vin Diesel|Paul Walker|Jason Statham|Michelle ...   \n",
       "\n",
       "                                            homepage          director  \\\n",
       "0                      http://www.jurassicworld.com/   Colin Trevorrow   \n",
       "1                        http://www.madmaxmovie.com/     George Miller   \n",
       "2     http://www.thedivergentseries.movie/#insurgent  Robert Schwentke   \n",
       "3  http://www.starwars.com/films/star-wars-episod...       J.J. Abrams   \n",
       "4                           http://www.furious7.com/         James Wan   \n",
       "\n",
       "                         tagline  ...  \\\n",
       "0              The park is open.  ...   \n",
       "1             What a Lovely Day.  ...   \n",
       "2     One Choice Can Destroy You  ...   \n",
       "3  Every generation has a story.  ...   \n",
       "4            Vengeance Hits Home  ...   \n",
       "\n",
       "                                            overview runtime  \\\n",
       "0  Twenty-two years after the events of Jurassic ...     124   \n",
       "1  An apocalyptic story set in the furthest reach...     120   \n",
       "2  Beatrice Prior must confront her inner demons ...     119   \n",
       "3  Thirty years after defeating the Galactic Empi...     136   \n",
       "4  Deckard Shaw seeks revenge against Dominic Tor...     137   \n",
       "\n",
       "                                      genres  \\\n",
       "0  Action|Adventure|Science Fiction|Thriller   \n",
       "1  Action|Adventure|Science Fiction|Thriller   \n",
       "2         Adventure|Science Fiction|Thriller   \n",
       "3   Action|Adventure|Science Fiction|Fantasy   \n",
       "4                      Action|Crime|Thriller   \n",
       "\n",
       "                                production_companies release_date vote_count  \\\n",
       "0  Universal Studios|Amblin Entertainment|Legenda...       6/9/15       5562   \n",
       "1  Village Roadshow Pictures|Kennedy Miller Produ...      5/13/15       6185   \n",
       "2  Summit Entertainment|Mandeville Films|Red Wago...      3/18/15       2480   \n",
       "3          Lucasfilm|Truenorth Productions|Bad Robot     12/15/15       5292   \n",
       "4  Universal Pictures|Original Film|Media Rights ...       4/1/15       2947   \n",
       "\n",
       "   vote_average  release_year   budget_adj   revenue_adj  \n",
       "0          6.50          2015 137999939.28 1392445892.52  \n",
       "1          7.10          2015 137999939.28  348161292.49  \n",
       "2          6.30          2015 101199955.47  271619025.41  \n",
       "3          7.50          2015 183999919.04 1902723129.80  \n",
       "4          7.30          2015 174799923.09 1385748801.47  \n",
       "\n",
       "[5 rows x 21 columns]"
      ]
     },
     "execution_count": 2,
     "metadata": {},
     "output_type": "execute_result"
    }
   ],
   "source": [
    "#suppress displaying long numbers in scientific notation\n",
    "pd.set_option('display.float_format', '{:.2f}'.format)\n",
    "#load data file into a dataframe\n",
    "df = pd.read_csv('tmdb-movies.csv')\n",
    "#returns the first n rows of the dataframe\n",
    "df.head()"
   ]
  },
  {
   "cell_type": "code",
   "execution_count": 3,
   "metadata": {},
   "outputs": [
    {
     "data": {
      "text/html": [
       "<div>\n",
       "<style scoped>\n",
       "    .dataframe tbody tr th:only-of-type {\n",
       "        vertical-align: middle;\n",
       "    }\n",
       "\n",
       "    .dataframe tbody tr th {\n",
       "        vertical-align: top;\n",
       "    }\n",
       "\n",
       "    .dataframe thead th {\n",
       "        text-align: right;\n",
       "    }\n",
       "</style>\n",
       "<table border=\"1\" class=\"dataframe\">\n",
       "  <thead>\n",
       "    <tr style=\"text-align: right;\">\n",
       "      <th></th>\n",
       "      <th>id</th>\n",
       "      <th>imdb_id</th>\n",
       "      <th>popularity</th>\n",
       "      <th>budget</th>\n",
       "      <th>revenue</th>\n",
       "      <th>original_title</th>\n",
       "      <th>cast</th>\n",
       "      <th>homepage</th>\n",
       "      <th>director</th>\n",
       "      <th>tagline</th>\n",
       "      <th>...</th>\n",
       "      <th>overview</th>\n",
       "      <th>runtime</th>\n",
       "      <th>genres</th>\n",
       "      <th>production_companies</th>\n",
       "      <th>release_date</th>\n",
       "      <th>vote_count</th>\n",
       "      <th>vote_average</th>\n",
       "      <th>release_year</th>\n",
       "      <th>budget_adj</th>\n",
       "      <th>revenue_adj</th>\n",
       "    </tr>\n",
       "  </thead>\n",
       "  <tbody>\n",
       "    <tr>\n",
       "      <th>10861</th>\n",
       "      <td>21</td>\n",
       "      <td>tt0060371</td>\n",
       "      <td>0.08</td>\n",
       "      <td>0</td>\n",
       "      <td>0</td>\n",
       "      <td>The Endless Summer</td>\n",
       "      <td>Michael Hynson|Robert August|Lord 'Tally Ho' B...</td>\n",
       "      <td>NaN</td>\n",
       "      <td>Bruce Brown</td>\n",
       "      <td>NaN</td>\n",
       "      <td>...</td>\n",
       "      <td>The Endless Summer, by Bruce Brown, is one of ...</td>\n",
       "      <td>95</td>\n",
       "      <td>Documentary</td>\n",
       "      <td>Bruce Brown Films</td>\n",
       "      <td>6/15/66</td>\n",
       "      <td>11</td>\n",
       "      <td>7.40</td>\n",
       "      <td>1966</td>\n",
       "      <td>0.00</td>\n",
       "      <td>0.00</td>\n",
       "    </tr>\n",
       "    <tr>\n",
       "      <th>10862</th>\n",
       "      <td>20379</td>\n",
       "      <td>tt0060472</td>\n",
       "      <td>0.07</td>\n",
       "      <td>0</td>\n",
       "      <td>0</td>\n",
       "      <td>Grand Prix</td>\n",
       "      <td>James Garner|Eva Marie Saint|Yves Montand|Tosh...</td>\n",
       "      <td>NaN</td>\n",
       "      <td>John Frankenheimer</td>\n",
       "      <td>Cinerama sweeps YOU into a drama of speed and ...</td>\n",
       "      <td>...</td>\n",
       "      <td>Grand Prix driver Pete Aron is fired by his te...</td>\n",
       "      <td>176</td>\n",
       "      <td>Action|Adventure|Drama</td>\n",
       "      <td>Cherokee Productions|Joel Productions|Douglas ...</td>\n",
       "      <td>12/21/66</td>\n",
       "      <td>20</td>\n",
       "      <td>5.70</td>\n",
       "      <td>1966</td>\n",
       "      <td>0.00</td>\n",
       "      <td>0.00</td>\n",
       "    </tr>\n",
       "    <tr>\n",
       "      <th>10863</th>\n",
       "      <td>39768</td>\n",
       "      <td>tt0060161</td>\n",
       "      <td>0.07</td>\n",
       "      <td>0</td>\n",
       "      <td>0</td>\n",
       "      <td>Beregis Avtomobilya</td>\n",
       "      <td>Innokentiy Smoktunovskiy|Oleg Efremov|Georgi Z...</td>\n",
       "      <td>NaN</td>\n",
       "      <td>Eldar Ryazanov</td>\n",
       "      <td>NaN</td>\n",
       "      <td>...</td>\n",
       "      <td>An insurance agent who moonlights as a carthie...</td>\n",
       "      <td>94</td>\n",
       "      <td>Mystery|Comedy</td>\n",
       "      <td>Mosfilm</td>\n",
       "      <td>1/1/66</td>\n",
       "      <td>11</td>\n",
       "      <td>6.50</td>\n",
       "      <td>1966</td>\n",
       "      <td>0.00</td>\n",
       "      <td>0.00</td>\n",
       "    </tr>\n",
       "    <tr>\n",
       "      <th>10864</th>\n",
       "      <td>21449</td>\n",
       "      <td>tt0061177</td>\n",
       "      <td>0.06</td>\n",
       "      <td>0</td>\n",
       "      <td>0</td>\n",
       "      <td>What's Up, Tiger Lily?</td>\n",
       "      <td>Tatsuya Mihashi|Akiko Wakabayashi|Mie Hama|Joh...</td>\n",
       "      <td>NaN</td>\n",
       "      <td>Woody Allen</td>\n",
       "      <td>WOODY ALLEN STRIKES BACK!</td>\n",
       "      <td>...</td>\n",
       "      <td>In comic Woody Allen's film debut, he took the...</td>\n",
       "      <td>80</td>\n",
       "      <td>Action|Comedy</td>\n",
       "      <td>Benedict Pictures Corp.</td>\n",
       "      <td>11/2/66</td>\n",
       "      <td>22</td>\n",
       "      <td>5.40</td>\n",
       "      <td>1966</td>\n",
       "      <td>0.00</td>\n",
       "      <td>0.00</td>\n",
       "    </tr>\n",
       "    <tr>\n",
       "      <th>10865</th>\n",
       "      <td>22293</td>\n",
       "      <td>tt0060666</td>\n",
       "      <td>0.04</td>\n",
       "      <td>19000</td>\n",
       "      <td>0</td>\n",
       "      <td>Manos: The Hands of Fate</td>\n",
       "      <td>Harold P. Warren|Tom Neyman|John Reynolds|Dian...</td>\n",
       "      <td>NaN</td>\n",
       "      <td>Harold P. Warren</td>\n",
       "      <td>It's Shocking! It's Beyond Your Imagination!</td>\n",
       "      <td>...</td>\n",
       "      <td>A family gets lost on the road and stumbles up...</td>\n",
       "      <td>74</td>\n",
       "      <td>Horror</td>\n",
       "      <td>Norm-Iris</td>\n",
       "      <td>11/15/66</td>\n",
       "      <td>15</td>\n",
       "      <td>1.50</td>\n",
       "      <td>1966</td>\n",
       "      <td>127642.28</td>\n",
       "      <td>0.00</td>\n",
       "    </tr>\n",
       "  </tbody>\n",
       "</table>\n",
       "<p>5 rows × 21 columns</p>\n",
       "</div>"
      ],
      "text/plain": [
       "          id    imdb_id  popularity  budget  revenue  \\\n",
       "10861     21  tt0060371        0.08       0        0   \n",
       "10862  20379  tt0060472        0.07       0        0   \n",
       "10863  39768  tt0060161        0.07       0        0   \n",
       "10864  21449  tt0061177        0.06       0        0   \n",
       "10865  22293  tt0060666        0.04   19000        0   \n",
       "\n",
       "                 original_title  \\\n",
       "10861        The Endless Summer   \n",
       "10862                Grand Prix   \n",
       "10863       Beregis Avtomobilya   \n",
       "10864    What's Up, Tiger Lily?   \n",
       "10865  Manos: The Hands of Fate   \n",
       "\n",
       "                                                    cast homepage  \\\n",
       "10861  Michael Hynson|Robert August|Lord 'Tally Ho' B...      NaN   \n",
       "10862  James Garner|Eva Marie Saint|Yves Montand|Tosh...      NaN   \n",
       "10863  Innokentiy Smoktunovskiy|Oleg Efremov|Georgi Z...      NaN   \n",
       "10864  Tatsuya Mihashi|Akiko Wakabayashi|Mie Hama|Joh...      NaN   \n",
       "10865  Harold P. Warren|Tom Neyman|John Reynolds|Dian...      NaN   \n",
       "\n",
       "                 director                                            tagline  \\\n",
       "10861         Bruce Brown                                                NaN   \n",
       "10862  John Frankenheimer  Cinerama sweeps YOU into a drama of speed and ...   \n",
       "10863      Eldar Ryazanov                                                NaN   \n",
       "10864         Woody Allen                          WOODY ALLEN STRIKES BACK!   \n",
       "10865    Harold P. Warren       It's Shocking! It's Beyond Your Imagination!   \n",
       "\n",
       "       ...                                           overview runtime  \\\n",
       "10861  ...  The Endless Summer, by Bruce Brown, is one of ...      95   \n",
       "10862  ...  Grand Prix driver Pete Aron is fired by his te...     176   \n",
       "10863  ...  An insurance agent who moonlights as a carthie...      94   \n",
       "10864  ...  In comic Woody Allen's film debut, he took the...      80   \n",
       "10865  ...  A family gets lost on the road and stumbles up...      74   \n",
       "\n",
       "                       genres  \\\n",
       "10861             Documentary   \n",
       "10862  Action|Adventure|Drama   \n",
       "10863          Mystery|Comedy   \n",
       "10864           Action|Comedy   \n",
       "10865                  Horror   \n",
       "\n",
       "                                    production_companies release_date  \\\n",
       "10861                                  Bruce Brown Films      6/15/66   \n",
       "10862  Cherokee Productions|Joel Productions|Douglas ...     12/21/66   \n",
       "10863                                            Mosfilm       1/1/66   \n",
       "10864                            Benedict Pictures Corp.      11/2/66   \n",
       "10865                                          Norm-Iris     11/15/66   \n",
       "\n",
       "      vote_count  vote_average  release_year  budget_adj  revenue_adj  \n",
       "10861         11          7.40          1966        0.00         0.00  \n",
       "10862         20          5.70          1966        0.00         0.00  \n",
       "10863         11          6.50          1966        0.00         0.00  \n",
       "10864         22          5.40          1966        0.00         0.00  \n",
       "10865         15          1.50          1966   127642.28         0.00  \n",
       "\n",
       "[5 rows x 21 columns]"
      ]
     },
     "execution_count": 3,
     "metadata": {},
     "output_type": "execute_result"
    }
   ],
   "source": [
    "#returns the last n rows of the dataframe\n",
    "df.tail()"
   ]
  },
  {
   "cell_type": "code",
   "execution_count": 4,
   "metadata": {},
   "outputs": [
    {
     "name": "stdout",
     "output_type": "stream",
     "text": [
      "<class 'pandas.core.frame.DataFrame'>\n",
      "RangeIndex: 10866 entries, 0 to 10865\n",
      "Data columns (total 21 columns):\n",
      " #   Column                Non-Null Count  Dtype  \n",
      "---  ------                --------------  -----  \n",
      " 0   id                    10866 non-null  int64  \n",
      " 1   imdb_id               10856 non-null  object \n",
      " 2   popularity            10866 non-null  float64\n",
      " 3   budget                10866 non-null  int64  \n",
      " 4   revenue               10866 non-null  int64  \n",
      " 5   original_title        10866 non-null  object \n",
      " 6   cast                  10790 non-null  object \n",
      " 7   homepage              2936 non-null   object \n",
      " 8   director              10822 non-null  object \n",
      " 9   tagline               8042 non-null   object \n",
      " 10  keywords              9373 non-null   object \n",
      " 11  overview              10862 non-null  object \n",
      " 12  runtime               10866 non-null  int64  \n",
      " 13  genres                10843 non-null  object \n",
      " 14  production_companies  9836 non-null   object \n",
      " 15  release_date          10866 non-null  object \n",
      " 16  vote_count            10866 non-null  int64  \n",
      " 17  vote_average          10866 non-null  float64\n",
      " 18  release_year          10866 non-null  int64  \n",
      " 19  budget_adj            10866 non-null  float64\n",
      " 20  revenue_adj           10866 non-null  float64\n",
      "dtypes: float64(4), int64(6), object(11)\n",
      "memory usage: 1.7+ MB\n"
     ]
    }
   ],
   "source": [
    "#gets a concise summary of the dataframe\n",
    "df.info()"
   ]
  },
  {
   "cell_type": "code",
   "execution_count": 5,
   "metadata": {},
   "outputs": [
    {
     "data": {
      "text/plain": [
       "id                         0\n",
       "imdb_id                   10\n",
       "popularity                 0\n",
       "budget                     0\n",
       "revenue                    0\n",
       "original_title             0\n",
       "cast                      76\n",
       "homepage                7930\n",
       "director                  44\n",
       "tagline                 2824\n",
       "keywords                1493\n",
       "overview                   4\n",
       "runtime                    0\n",
       "genres                    23\n",
       "production_companies    1030\n",
       "release_date               0\n",
       "vote_count                 0\n",
       "vote_average               0\n",
       "release_year               0\n",
       "budget_adj                 0\n",
       "revenue_adj                0\n",
       "dtype: int64"
      ]
     },
     "execution_count": 5,
     "metadata": {},
     "output_type": "execute_result"
    }
   ],
   "source": [
    "#looks for NA values in the dataframe\n",
    "df.isnull().sum()"
   ]
  },
  {
   "cell_type": "code",
   "execution_count": 6,
   "metadata": {},
   "outputs": [
    {
     "data": {
      "text/plain": [
       "1"
      ]
     },
     "execution_count": 6,
     "metadata": {},
     "output_type": "execute_result"
    }
   ],
   "source": [
    "#checks for duplicate  values\n",
    "df.duplicated().sum()"
   ]
  },
  {
   "cell_type": "code",
   "execution_count": 7,
   "metadata": {},
   "outputs": [],
   "source": [
    "def count_zeros(dfname):\n",
    "    \"\"\"\n",
    "    Counts zeros in each columns that contains integer or float data.\n",
    "    \"\"\"\n",
    "    for i,column_name in enumerate(dfname.columns):\n",
    "        if dfname[column_name].dtype=='int64' or dfname[column_name].dtype=='float64':\n",
    "            print(\"Count of zeros in\", column_name,\"column:\", dfname[dfname[column_name]==0].shape[0])"
   ]
  },
  {
   "cell_type": "code",
   "execution_count": 8,
   "metadata": {},
   "outputs": [
    {
     "name": "stdout",
     "output_type": "stream",
     "text": [
      "Count of zeros in id column: 0\n",
      "Count of zeros in popularity column: 0\n",
      "Count of zeros in budget column: 5696\n",
      "Count of zeros in revenue column: 6016\n",
      "Count of zeros in runtime column: 31\n",
      "Count of zeros in vote_count column: 0\n",
      "Count of zeros in vote_average column: 0\n",
      "Count of zeros in release_year column: 0\n",
      "Count of zeros in budget_adj column: 5696\n",
      "Count of zeros in revenue_adj column: 6016\n"
     ]
    }
   ],
   "source": [
    "count_zeros(df)"
   ]
  },
  {
   "cell_type": "markdown",
   "metadata": {},
   "source": [
    ">**Note:**\n",
    ">\n",
    ">It is possible to identify some problems in this dataset, such as:\n",
    ">* The \"release_date\" columns should be datetime instead of object;\n",
    ">* The \"budget_adj\" and \"revenue_adj\" columns should be int64 instead of float64;\n",
    ">* Rename the \"budget_adj\" and \"revenue_adj\" columns to make it clear that the values have been adjusted to 2010 dollars;\n",
    ">* Drop unnecessary columns for this analysis (\"imdb_id\", \"budget\", \"revenue\", \"homepage\", \"tagline\", \"keywords\", \"overview\", \"production_companies\");\n",
    ">* Rows with null values;\n",
    ">* One duplicated row;\n",
    ">* Few zeros in the runtime column;\n",
    ">* Lots of zeros in the \"budget_adj\" and \"revenue_adj\"."
   ]
  },
  {
   "cell_type": "markdown",
   "metadata": {},
   "source": [
    "### Data Cleaning \n",
    "\n",
    "#### I) Change columns data types"
   ]
  },
  {
   "cell_type": "code",
   "execution_count": 9,
   "metadata": {},
   "outputs": [
    {
     "data": {
      "text/plain": [
       "0   2015-06-09\n",
       "Name: release_date, dtype: datetime64[ns]"
      ]
     },
     "execution_count": 9,
     "metadata": {},
     "output_type": "execute_result"
    }
   ],
   "source": [
    "#converts 'release_date' column to datetime\n",
    "df['release_date'] = pd.to_datetime(df['release_date'])\n",
    "#checks changes\n",
    "df['release_date'].head(1)"
   ]
  },
  {
   "cell_type": "code",
   "execution_count": 10,
   "metadata": {},
   "outputs": [
    {
     "data": {
      "text/plain": [
       "0    137999939\n",
       "Name: budget_adj, dtype: int64"
      ]
     },
     "execution_count": 10,
     "metadata": {},
     "output_type": "execute_result"
    }
   ],
   "source": [
    "#converts 'budget_adj' column to integer\n",
    "df['budget_adj'] = df['budget_adj'].astype(np.int64)\n",
    "#checks changes\n",
    "df['budget_adj'].head(1)"
   ]
  },
  {
   "cell_type": "code",
   "execution_count": 11,
   "metadata": {},
   "outputs": [
    {
     "data": {
      "text/plain": [
       "0    1392445892\n",
       "Name: revenue_adj, dtype: int64"
      ]
     },
     "execution_count": 11,
     "metadata": {},
     "output_type": "execute_result"
    }
   ],
   "source": [
    "#converts 'revenue_adj' column to integer\n",
    "df['revenue_adj'] = df['revenue_adj'].astype(np.int64)\n",
    "#checks changes\n",
    "df['revenue_adj'].head(1)"
   ]
  },
  {
   "cell_type": "markdown",
   "metadata": {},
   "source": [
    "#### II) Drop unnecessary columns for the analysis"
   ]
  },
  {
   "cell_type": "code",
   "execution_count": 12,
   "metadata": {},
   "outputs": [
    {
     "data": {
      "text/html": [
       "<div>\n",
       "<style scoped>\n",
       "    .dataframe tbody tr th:only-of-type {\n",
       "        vertical-align: middle;\n",
       "    }\n",
       "\n",
       "    .dataframe tbody tr th {\n",
       "        vertical-align: top;\n",
       "    }\n",
       "\n",
       "    .dataframe thead th {\n",
       "        text-align: right;\n",
       "    }\n",
       "</style>\n",
       "<table border=\"1\" class=\"dataframe\">\n",
       "  <thead>\n",
       "    <tr style=\"text-align: right;\">\n",
       "      <th></th>\n",
       "      <th>id</th>\n",
       "      <th>original_title</th>\n",
       "      <th>cast</th>\n",
       "      <th>director</th>\n",
       "      <th>runtime</th>\n",
       "      <th>genres</th>\n",
       "      <th>release_date</th>\n",
       "      <th>vote_count</th>\n",
       "      <th>vote_average</th>\n",
       "      <th>release_year</th>\n",
       "      <th>budget_adj</th>\n",
       "      <th>revenue_adj</th>\n",
       "    </tr>\n",
       "  </thead>\n",
       "  <tbody>\n",
       "    <tr>\n",
       "      <th>0</th>\n",
       "      <td>135397</td>\n",
       "      <td>Jurassic World</td>\n",
       "      <td>Chris Pratt|Bryce Dallas Howard|Irrfan Khan|Vi...</td>\n",
       "      <td>Colin Trevorrow</td>\n",
       "      <td>124</td>\n",
       "      <td>Action|Adventure|Science Fiction|Thriller</td>\n",
       "      <td>2015-06-09</td>\n",
       "      <td>5562</td>\n",
       "      <td>6.50</td>\n",
       "      <td>2015</td>\n",
       "      <td>137999939</td>\n",
       "      <td>1392445892</td>\n",
       "    </tr>\n",
       "  </tbody>\n",
       "</table>\n",
       "</div>"
      ],
      "text/plain": [
       "       id  original_title                                               cast  \\\n",
       "0  135397  Jurassic World  Chris Pratt|Bryce Dallas Howard|Irrfan Khan|Vi...   \n",
       "\n",
       "          director  runtime                                     genres  \\\n",
       "0  Colin Trevorrow      124  Action|Adventure|Science Fiction|Thriller   \n",
       "\n",
       "  release_date  vote_count  vote_average  release_year  budget_adj  \\\n",
       "0   2015-06-09        5562          6.50          2015   137999939   \n",
       "\n",
       "   revenue_adj  \n",
       "0   1392445892  "
      ]
     },
     "execution_count": 12,
     "metadata": {},
     "output_type": "execute_result"
    }
   ],
   "source": [
    "#drops unused columns\n",
    "del_col = ['imdb_id', 'popularity', 'budget', 'revenue', 'homepage', 'tagline', 'keywords', 'overview', 'production_companies']\n",
    "df.drop(del_col, axis=1, inplace=True)\n",
    "#checks changes\n",
    "df.head(1)"
   ]
  },
  {
   "cell_type": "markdown",
   "metadata": {},
   "source": [
    "#### III) Rename \"budget_adj\" and \"revenue_adj\" columns"
   ]
  },
  {
   "cell_type": "code",
   "execution_count": 13,
   "metadata": {},
   "outputs": [
    {
     "data": {
      "text/html": [
       "<div>\n",
       "<style scoped>\n",
       "    .dataframe tbody tr th:only-of-type {\n",
       "        vertical-align: middle;\n",
       "    }\n",
       "\n",
       "    .dataframe tbody tr th {\n",
       "        vertical-align: top;\n",
       "    }\n",
       "\n",
       "    .dataframe thead th {\n",
       "        text-align: right;\n",
       "    }\n",
       "</style>\n",
       "<table border=\"1\" class=\"dataframe\">\n",
       "  <thead>\n",
       "    <tr style=\"text-align: right;\">\n",
       "      <th></th>\n",
       "      <th>id</th>\n",
       "      <th>original_title</th>\n",
       "      <th>cast</th>\n",
       "      <th>director</th>\n",
       "      <th>runtime</th>\n",
       "      <th>genres</th>\n",
       "      <th>release_date</th>\n",
       "      <th>vote_count</th>\n",
       "      <th>vote_average</th>\n",
       "      <th>release_year</th>\n",
       "      <th>budget_adj_2010</th>\n",
       "      <th>revenue_adj_2010</th>\n",
       "    </tr>\n",
       "  </thead>\n",
       "  <tbody>\n",
       "    <tr>\n",
       "      <th>0</th>\n",
       "      <td>135397</td>\n",
       "      <td>Jurassic World</td>\n",
       "      <td>Chris Pratt|Bryce Dallas Howard|Irrfan Khan|Vi...</td>\n",
       "      <td>Colin Trevorrow</td>\n",
       "      <td>124</td>\n",
       "      <td>Action|Adventure|Science Fiction|Thriller</td>\n",
       "      <td>2015-06-09</td>\n",
       "      <td>5562</td>\n",
       "      <td>6.50</td>\n",
       "      <td>2015</td>\n",
       "      <td>137999939</td>\n",
       "      <td>1392445892</td>\n",
       "    </tr>\n",
       "  </tbody>\n",
       "</table>\n",
       "</div>"
      ],
      "text/plain": [
       "       id  original_title                                               cast  \\\n",
       "0  135397  Jurassic World  Chris Pratt|Bryce Dallas Howard|Irrfan Khan|Vi...   \n",
       "\n",
       "          director  runtime                                     genres  \\\n",
       "0  Colin Trevorrow      124  Action|Adventure|Science Fiction|Thriller   \n",
       "\n",
       "  release_date  vote_count  vote_average  release_year  budget_adj_2010  \\\n",
       "0   2015-06-09        5562          6.50          2015        137999939   \n",
       "\n",
       "   revenue_adj_2010  \n",
       "0        1392445892  "
      ]
     },
     "execution_count": 13,
     "metadata": {},
     "output_type": "execute_result"
    }
   ],
   "source": [
    "#renames columns'budget_adj' and 'revenue_adj' to make explicit that the values are adjusted to 2010 dollars\n",
    "df.rename(columns={'budget_adj':'budget_adj_2010', 'revenue_adj':'revenue_adj_2010'}, inplace=True)\n",
    "#checks changes\n",
    "df.head(1)"
   ]
  },
  {
   "cell_type": "markdown",
   "metadata": {},
   "source": [
    "#### IV) Drop rows with null values"
   ]
  },
  {
   "cell_type": "code",
   "execution_count": 14,
   "metadata": {},
   "outputs": [
    {
     "data": {
      "text/plain": [
       "id                  0\n",
       "original_title      0\n",
       "cast                0\n",
       "director            0\n",
       "runtime             0\n",
       "genres              0\n",
       "release_date        0\n",
       "vote_count          0\n",
       "vote_average        0\n",
       "release_year        0\n",
       "budget_adj_2010     0\n",
       "revenue_adj_2010    0\n",
       "dtype: int64"
      ]
     },
     "execution_count": 14,
     "metadata": {},
     "output_type": "execute_result"
    }
   ],
   "source": [
    "#drops rows with any null values\n",
    "df.dropna(inplace=True)\n",
    "#checks changes\n",
    "df.isnull().sum()"
   ]
  },
  {
   "cell_type": "markdown",
   "metadata": {},
   "source": [
    "#### V) Drop the duplicated row"
   ]
  },
  {
   "cell_type": "code",
   "execution_count": 15,
   "metadata": {},
   "outputs": [
    {
     "data": {
      "text/plain": [
       "0"
      ]
     },
     "execution_count": 15,
     "metadata": {},
     "output_type": "execute_result"
    }
   ],
   "source": [
    "#drops duplicates in the dataset\n",
    "df.drop_duplicates(inplace=True)\n",
    "#checks changes\n",
    "df.duplicated().sum()"
   ]
  },
  {
   "cell_type": "markdown",
   "metadata": {},
   "source": [
    "#### VI) Drop zeros in 'runtime' column"
   ]
  },
  {
   "cell_type": "code",
   "execution_count": 16,
   "metadata": {},
   "outputs": [],
   "source": [
    "#replaces zeros with NaN in the 'runtime' column\n",
    "df['runtime'] = df['runtime'].replace(0, np.NaN)\n",
    "#removes missing values\n",
    "df = df.dropna(subset = ['runtime'])"
   ]
  },
  {
   "cell_type": "markdown",
   "metadata": {},
   "source": [
    "#### VII) Check the dataframe shape"
   ]
  },
  {
   "cell_type": "code",
   "execution_count": 17,
   "metadata": {},
   "outputs": [
    {
     "data": {
      "text/plain": [
       "(10703, 12)"
      ]
     },
     "execution_count": 17,
     "metadata": {},
     "output_type": "execute_result"
    }
   ],
   "source": [
    "#returns the number of rows and columns ih the dataframe\n",
    "df.shape"
   ]
  },
  {
   "cell_type": "markdown",
   "metadata": {},
   "source": [
    "#### VIII) Check the total of zeros that remain in the dataset "
   ]
  },
  {
   "cell_type": "code",
   "execution_count": 18,
   "metadata": {},
   "outputs": [
    {
     "name": "stdout",
     "output_type": "stream",
     "text": [
      "Count of zeros in id column: 0\n",
      "Count of zeros in runtime column: 0\n",
      "Count of zeros in vote_count column: 0\n",
      "Count of zeros in vote_average column: 0\n",
      "Count of zeros in release_year column: 0\n",
      "Count of zeros in budget_adj_2010 column: 5555\n",
      "Count of zeros in revenue_adj_2010 column: 5860\n"
     ]
    }
   ],
   "source": [
    "#counts zeros in each columns that contains integer or float data\n",
    "count_zeros(df)"
   ]
  },
  {
   "cell_type": "markdown",
   "metadata": {},
   "source": [
    ">**Note:**\n",
    ">\n",
    ">The number of rows with zeros in the \"budget_adj_2010\" and \"revenue_adj_2010\" columns correspond to 51.9% and 54.7% of the total rows in the dataset. This is probably due to an error, since it is very unlikely that a movie is produced without a budget or released without generating any revenues. For this reason, the \"df\" will be used to work with the other variables, preserving the original cleaned dataset. The \"df_zero_clean\", which is a copy of \"df\" without the zeros, will be used to explore the budget and revenue variables, even though important data will be lost."
   ]
  },
  {
   "cell_type": "markdown",
   "metadata": {},
   "source": [
    "#### IV) Check the total of zeros that remain in the dataset "
   ]
  },
  {
   "cell_type": "code",
   "execution_count": 19,
   "metadata": {},
   "outputs": [
    {
     "data": {
      "text/plain": [
       "(3848, 12)"
      ]
     },
     "execution_count": 19,
     "metadata": {},
     "output_type": "execute_result"
    }
   ],
   "source": [
    "#filters the budget and revenue data without zeros\n",
    "bud_rev = df.query('budget_adj_2010 != 0 & revenue_adj_2010 != 0')\n",
    "#checks changes\n",
    "bud_rev.shape"
   ]
  },
  {
   "cell_type": "markdown",
   "metadata": {},
   "source": [
    "#### X) Copy the data frame"
   ]
  },
  {
   "cell_type": "code",
   "execution_count": 20,
   "metadata": {},
   "outputs": [
    {
     "data": {
      "text/html": [
       "<div>\n",
       "<style scoped>\n",
       "    .dataframe tbody tr th:only-of-type {\n",
       "        vertical-align: middle;\n",
       "    }\n",
       "\n",
       "    .dataframe tbody tr th {\n",
       "        vertical-align: top;\n",
       "    }\n",
       "\n",
       "    .dataframe thead th {\n",
       "        text-align: right;\n",
       "    }\n",
       "</style>\n",
       "<table border=\"1\" class=\"dataframe\">\n",
       "  <thead>\n",
       "    <tr style=\"text-align: right;\">\n",
       "      <th></th>\n",
       "      <th>id</th>\n",
       "      <th>original_title</th>\n",
       "      <th>cast</th>\n",
       "      <th>director</th>\n",
       "      <th>runtime</th>\n",
       "      <th>genres</th>\n",
       "      <th>release_date</th>\n",
       "      <th>vote_count</th>\n",
       "      <th>vote_average</th>\n",
       "      <th>release_year</th>\n",
       "      <th>budget_adj_2010</th>\n",
       "      <th>revenue_adj_2010</th>\n",
       "    </tr>\n",
       "  </thead>\n",
       "  <tbody>\n",
       "    <tr>\n",
       "      <th>10822</th>\n",
       "      <td>396</td>\n",
       "      <td>Who's Afraid of Virginia Woolf?</td>\n",
       "      <td>Elizabeth Taylor|Richard Burton|George Segal|S...</td>\n",
       "      <td>Mike Nichols</td>\n",
       "      <td>131.00</td>\n",
       "      <td>Drama</td>\n",
       "      <td>2066-06-21</td>\n",
       "      <td>74</td>\n",
       "      <td>7.50</td>\n",
       "      <td>1966</td>\n",
       "      <td>50385110</td>\n",
       "      <td>226643572</td>\n",
       "    </tr>\n",
       "    <tr>\n",
       "      <th>10828</th>\n",
       "      <td>5780</td>\n",
       "      <td>Torn Curtain</td>\n",
       "      <td>Paul Newman|Julie Andrews|Lila Kedrova|HansjÃ¶...</td>\n",
       "      <td>Alfred Hitchcock</td>\n",
       "      <td>128.00</td>\n",
       "      <td>Mystery|Thriller</td>\n",
       "      <td>2066-07-13</td>\n",
       "      <td>46</td>\n",
       "      <td>6.30</td>\n",
       "      <td>1966</td>\n",
       "      <td>20154044</td>\n",
       "      <td>87334190</td>\n",
       "    </tr>\n",
       "    <tr>\n",
       "      <th>10829</th>\n",
       "      <td>6644</td>\n",
       "      <td>El Dorado</td>\n",
       "      <td>John Wayne|Robert Mitchum|James Caan|Charlene ...</td>\n",
       "      <td>Howard Hawks</td>\n",
       "      <td>120.00</td>\n",
       "      <td>Action|Western</td>\n",
       "      <td>2066-12-17</td>\n",
       "      <td>36</td>\n",
       "      <td>6.90</td>\n",
       "      <td>1966</td>\n",
       "      <td>31258922</td>\n",
       "      <td>40308088</td>\n",
       "    </tr>\n",
       "    <tr>\n",
       "      <th>10835</th>\n",
       "      <td>5923</td>\n",
       "      <td>The Sand Pebbles</td>\n",
       "      <td>Steve McQueen|Richard Attenborough|Richard Cre...</td>\n",
       "      <td>Robert Wise</td>\n",
       "      <td>182.00</td>\n",
       "      <td>Action|Adventure|Drama|War|Romance</td>\n",
       "      <td>2066-12-20</td>\n",
       "      <td>28</td>\n",
       "      <td>7.00</td>\n",
       "      <td>1966</td>\n",
       "      <td>80616176</td>\n",
       "      <td>134360293</td>\n",
       "    </tr>\n",
       "    <tr>\n",
       "      <th>10848</th>\n",
       "      <td>2161</td>\n",
       "      <td>Fantastic Voyage</td>\n",
       "      <td>Stephen Boyd|Raquel Welch|Edmond O'Brien|Donal...</td>\n",
       "      <td>Richard Fleischer</td>\n",
       "      <td>100.00</td>\n",
       "      <td>Adventure|Science Fiction</td>\n",
       "      <td>2066-08-24</td>\n",
       "      <td>42</td>\n",
       "      <td>6.70</td>\n",
       "      <td>1966</td>\n",
       "      <td>34362645</td>\n",
       "      <td>80616176</td>\n",
       "    </tr>\n",
       "  </tbody>\n",
       "</table>\n",
       "</div>"
      ],
      "text/plain": [
       "         id                   original_title  \\\n",
       "10822   396  Who's Afraid of Virginia Woolf?   \n",
       "10828  5780                     Torn Curtain   \n",
       "10829  6644                        El Dorado   \n",
       "10835  5923                 The Sand Pebbles   \n",
       "10848  2161                 Fantastic Voyage   \n",
       "\n",
       "                                                    cast           director  \\\n",
       "10822  Elizabeth Taylor|Richard Burton|George Segal|S...       Mike Nichols   \n",
       "10828  Paul Newman|Julie Andrews|Lila Kedrova|HansjÃ¶...   Alfred Hitchcock   \n",
       "10829  John Wayne|Robert Mitchum|James Caan|Charlene ...       Howard Hawks   \n",
       "10835  Steve McQueen|Richard Attenborough|Richard Cre...        Robert Wise   \n",
       "10848  Stephen Boyd|Raquel Welch|Edmond O'Brien|Donal...  Richard Fleischer   \n",
       "\n",
       "       runtime                              genres release_date  vote_count  \\\n",
       "10822   131.00                               Drama   2066-06-21          74   \n",
       "10828   128.00                    Mystery|Thriller   2066-07-13          46   \n",
       "10829   120.00                      Action|Western   2066-12-17          36   \n",
       "10835   182.00  Action|Adventure|Drama|War|Romance   2066-12-20          28   \n",
       "10848   100.00           Adventure|Science Fiction   2066-08-24          42   \n",
       "\n",
       "       vote_average  release_year  budget_adj_2010  revenue_adj_2010  \n",
       "10822          7.50          1966         50385110         226643572  \n",
       "10828          6.30          1966         20154044          87334190  \n",
       "10829          6.90          1966         31258922          40308088  \n",
       "10835          7.00          1966         80616176         134360293  \n",
       "10848          6.70          1966         34362645          80616176  "
      ]
     },
     "execution_count": 20,
     "metadata": {},
     "output_type": "execute_result"
    }
   ],
   "source": [
    "#makes a copy of \"df\" without zeros\n",
    "df_zero_clean = bud_rev.copy(deep=True)\n",
    "#checks changes\n",
    "df_zero_clean.tail()"
   ]
  },
  {
   "cell_type": "code",
   "execution_count": 21,
   "metadata": {},
   "outputs": [
    {
     "name": "stdout",
     "output_type": "stream",
     "text": [
      "Count of zeros in id column: 0\n",
      "Count of zeros in runtime column: 0\n",
      "Count of zeros in vote_count column: 0\n",
      "Count of zeros in vote_average column: 0\n",
      "Count of zeros in release_year column: 0\n",
      "Count of zeros in budget_adj_2010 column: 0\n",
      "Count of zeros in revenue_adj_2010 column: 0\n"
     ]
    }
   ],
   "source": [
    "##counts zeros in each columns that contains integer or float data\n",
    "count_zeros(df_zero_clean)"
   ]
  },
  {
   "cell_type": "markdown",
   "metadata": {},
   "source": [
    "#### XI) Compare both dataframes"
   ]
  },
  {
   "cell_type": "code",
   "execution_count": 22,
   "metadata": {},
   "outputs": [
    {
     "data": {
      "text/html": [
       "<div>\n",
       "<style scoped>\n",
       "    .dataframe tbody tr th:only-of-type {\n",
       "        vertical-align: middle;\n",
       "    }\n",
       "\n",
       "    .dataframe tbody tr th {\n",
       "        vertical-align: top;\n",
       "    }\n",
       "\n",
       "    .dataframe thead th {\n",
       "        text-align: right;\n",
       "    }\n",
       "</style>\n",
       "<table border=\"1\" class=\"dataframe\">\n",
       "  <thead>\n",
       "    <tr style=\"text-align: right;\">\n",
       "      <th></th>\n",
       "      <th>id</th>\n",
       "      <th>runtime</th>\n",
       "      <th>vote_count</th>\n",
       "      <th>vote_average</th>\n",
       "      <th>release_year</th>\n",
       "      <th>budget_adj_2010</th>\n",
       "      <th>revenue_adj_2010</th>\n",
       "    </tr>\n",
       "  </thead>\n",
       "  <tbody>\n",
       "    <tr>\n",
       "      <th>count</th>\n",
       "      <td>10703.00</td>\n",
       "      <td>10703.00</td>\n",
       "      <td>10703.00</td>\n",
       "      <td>10703.00</td>\n",
       "      <td>10703.00</td>\n",
       "      <td>10703.00</td>\n",
       "      <td>10703.00</td>\n",
       "    </tr>\n",
       "    <tr>\n",
       "      <th>mean</th>\n",
       "      <td>64904.99</td>\n",
       "      <td>102.74</td>\n",
       "      <td>220.33</td>\n",
       "      <td>5.97</td>\n",
       "      <td>2001.24</td>\n",
       "      <td>17810610.74</td>\n",
       "      <td>52142282.14</td>\n",
       "    </tr>\n",
       "    <tr>\n",
       "      <th>std</th>\n",
       "      <td>91162.00</td>\n",
       "      <td>30.08</td>\n",
       "      <td>579.48</td>\n",
       "      <td>0.93</td>\n",
       "      <td>12.83</td>\n",
       "      <td>34499875.63</td>\n",
       "      <td>145590906.51</td>\n",
       "    </tr>\n",
       "    <tr>\n",
       "      <th>min</th>\n",
       "      <td>5.00</td>\n",
       "      <td>3.00</td>\n",
       "      <td>10.00</td>\n",
       "      <td>1.50</td>\n",
       "      <td>1960.00</td>\n",
       "      <td>0.00</td>\n",
       "      <td>0.00</td>\n",
       "    </tr>\n",
       "    <tr>\n",
       "      <th>25%</th>\n",
       "      <td>10538.50</td>\n",
       "      <td>90.00</td>\n",
       "      <td>17.00</td>\n",
       "      <td>5.40</td>\n",
       "      <td>1995.00</td>\n",
       "      <td>0.00</td>\n",
       "      <td>0.00</td>\n",
       "    </tr>\n",
       "    <tr>\n",
       "      <th>50%</th>\n",
       "      <td>20235.00</td>\n",
       "      <td>99.00</td>\n",
       "      <td>39.00</td>\n",
       "      <td>6.00</td>\n",
       "      <td>2006.00</td>\n",
       "      <td>0.00</td>\n",
       "      <td>0.00</td>\n",
       "    </tr>\n",
       "    <tr>\n",
       "      <th>75%</th>\n",
       "      <td>73637.00</td>\n",
       "      <td>112.00</td>\n",
       "      <td>149.00</td>\n",
       "      <td>6.60</td>\n",
       "      <td>2011.00</td>\n",
       "      <td>21164142.00</td>\n",
       "      <td>34973528.00</td>\n",
       "    </tr>\n",
       "    <tr>\n",
       "      <th>max</th>\n",
       "      <td>417859.00</td>\n",
       "      <td>900.00</td>\n",
       "      <td>9767.00</td>\n",
       "      <td>9.20</td>\n",
       "      <td>2015.00</td>\n",
       "      <td>425000000.00</td>\n",
       "      <td>2827123750.00</td>\n",
       "    </tr>\n",
       "  </tbody>\n",
       "</table>\n",
       "</div>"
      ],
      "text/plain": [
       "             id  runtime  vote_count  vote_average  release_year  \\\n",
       "count  10703.00 10703.00    10703.00      10703.00      10703.00   \n",
       "mean   64904.99   102.74      220.33          5.97       2001.24   \n",
       "std    91162.00    30.08      579.48          0.93         12.83   \n",
       "min        5.00     3.00       10.00          1.50       1960.00   \n",
       "25%    10538.50    90.00       17.00          5.40       1995.00   \n",
       "50%    20235.00    99.00       39.00          6.00       2006.00   \n",
       "75%    73637.00   112.00      149.00          6.60       2011.00   \n",
       "max   417859.00   900.00     9767.00          9.20       2015.00   \n",
       "\n",
       "       budget_adj_2010  revenue_adj_2010  \n",
       "count         10703.00          10703.00  \n",
       "mean       17810610.74       52142282.14  \n",
       "std        34499875.63      145590906.51  \n",
       "min               0.00              0.00  \n",
       "25%               0.00              0.00  \n",
       "50%               0.00              0.00  \n",
       "75%        21164142.00       34973528.00  \n",
       "max       425000000.00     2827123750.00  "
      ]
     },
     "execution_count": 22,
     "metadata": {},
     "output_type": "execute_result"
    }
   ],
   "source": [
    "#shows basic statistical details\n",
    "df.describe()"
   ]
  },
  {
   "cell_type": "code",
   "execution_count": 23,
   "metadata": {},
   "outputs": [
    {
     "data": {
      "text/html": [
       "<div>\n",
       "<style scoped>\n",
       "    .dataframe tbody tr th:only-of-type {\n",
       "        vertical-align: middle;\n",
       "    }\n",
       "\n",
       "    .dataframe tbody tr th {\n",
       "        vertical-align: top;\n",
       "    }\n",
       "\n",
       "    .dataframe thead th {\n",
       "        text-align: right;\n",
       "    }\n",
       "</style>\n",
       "<table border=\"1\" class=\"dataframe\">\n",
       "  <thead>\n",
       "    <tr style=\"text-align: right;\">\n",
       "      <th></th>\n",
       "      <th>id</th>\n",
       "      <th>runtime</th>\n",
       "      <th>vote_count</th>\n",
       "      <th>vote_average</th>\n",
       "      <th>release_year</th>\n",
       "      <th>budget_adj_2010</th>\n",
       "      <th>revenue_adj_2010</th>\n",
       "    </tr>\n",
       "  </thead>\n",
       "  <tbody>\n",
       "    <tr>\n",
       "      <th>count</th>\n",
       "      <td>3848.00</td>\n",
       "      <td>3848.00</td>\n",
       "      <td>3848.00</td>\n",
       "      <td>3848.00</td>\n",
       "      <td>3848.00</td>\n",
       "      <td>3848.00</td>\n",
       "      <td>3848.00</td>\n",
       "    </tr>\n",
       "    <tr>\n",
       "      <th>mean</th>\n",
       "      <td>39880.10</td>\n",
       "      <td>109.22</td>\n",
       "      <td>528.51</td>\n",
       "      <td>6.17</td>\n",
       "      <td>2001.26</td>\n",
       "      <td>44305111.97</td>\n",
       "      <td>137266980.82</td>\n",
       "    </tr>\n",
       "    <tr>\n",
       "      <th>std</th>\n",
       "      <td>67256.90</td>\n",
       "      <td>19.91</td>\n",
       "      <td>880.41</td>\n",
       "      <td>0.79</td>\n",
       "      <td>11.29</td>\n",
       "      <td>44813734.19</td>\n",
       "      <td>216218537.78</td>\n",
       "    </tr>\n",
       "    <tr>\n",
       "      <th>min</th>\n",
       "      <td>5.00</td>\n",
       "      <td>15.00</td>\n",
       "      <td>10.00</td>\n",
       "      <td>2.20</td>\n",
       "      <td>1960.00</td>\n",
       "      <td>1.00</td>\n",
       "      <td>2.00</td>\n",
       "    </tr>\n",
       "    <tr>\n",
       "      <th>25%</th>\n",
       "      <td>6071.00</td>\n",
       "      <td>95.75</td>\n",
       "      <td>71.00</td>\n",
       "      <td>5.70</td>\n",
       "      <td>1995.00</td>\n",
       "      <td>13184093.25</td>\n",
       "      <td>18438266.75</td>\n",
       "    </tr>\n",
       "    <tr>\n",
       "      <th>50%</th>\n",
       "      <td>11311.00</td>\n",
       "      <td>106.00</td>\n",
       "      <td>205.00</td>\n",
       "      <td>6.20</td>\n",
       "      <td>2004.00</td>\n",
       "      <td>30079259.50</td>\n",
       "      <td>61821971.50</td>\n",
       "    </tr>\n",
       "    <tr>\n",
       "      <th>75%</th>\n",
       "      <td>38569.75</td>\n",
       "      <td>119.00</td>\n",
       "      <td>581.25</td>\n",
       "      <td>6.70</td>\n",
       "      <td>2010.00</td>\n",
       "      <td>60767198.00</td>\n",
       "      <td>163552750.50</td>\n",
       "    </tr>\n",
       "    <tr>\n",
       "      <th>max</th>\n",
       "      <td>417859.00</td>\n",
       "      <td>338.00</td>\n",
       "      <td>9767.00</td>\n",
       "      <td>8.40</td>\n",
       "      <td>2015.00</td>\n",
       "      <td>425000000.00</td>\n",
       "      <td>2827123750.00</td>\n",
       "    </tr>\n",
       "  </tbody>\n",
       "</table>\n",
       "</div>"
      ],
      "text/plain": [
       "             id  runtime  vote_count  vote_average  release_year  \\\n",
       "count   3848.00  3848.00     3848.00       3848.00       3848.00   \n",
       "mean   39880.10   109.22      528.51          6.17       2001.26   \n",
       "std    67256.90    19.91      880.41          0.79         11.29   \n",
       "min        5.00    15.00       10.00          2.20       1960.00   \n",
       "25%     6071.00    95.75       71.00          5.70       1995.00   \n",
       "50%    11311.00   106.00      205.00          6.20       2004.00   \n",
       "75%    38569.75   119.00      581.25          6.70       2010.00   \n",
       "max   417859.00   338.00     9767.00          8.40       2015.00   \n",
       "\n",
       "       budget_adj_2010  revenue_adj_2010  \n",
       "count          3848.00           3848.00  \n",
       "mean       44305111.97      137266980.82  \n",
       "std        44813734.19      216218537.78  \n",
       "min               1.00              2.00  \n",
       "25%        13184093.25       18438266.75  \n",
       "50%        30079259.50       61821971.50  \n",
       "75%        60767198.00      163552750.50  \n",
       "max       425000000.00     2827123750.00  "
      ]
     },
     "execution_count": 23,
     "metadata": {},
     "output_type": "execute_result"
    }
   ],
   "source": [
    "#shows basic statistical details\n",
    "df_zero_clean.describe()"
   ]
  },
  {
   "cell_type": "markdown",
   "metadata": {},
   "source": [
    "#### XII) Check \"budget_adj_2010\" and \"revenue_adj_2010\" columns for low values\n",
    "\n",
    "The summary above showed that there are very low values in the \"budget_adj_2010\" and \"revenue_adj_2010\" columns. So it would be nice to check them to make sure it is not an important issue."
   ]
  },
  {
   "cell_type": "code",
   "execution_count": 24,
   "metadata": {},
   "outputs": [
    {
     "data": {
      "text/plain": [
       "23"
      ]
     },
     "execution_count": 24,
     "metadata": {},
     "output_type": "execute_result"
    }
   ],
   "source": [
    "#checks for \"budget_adj_2010\" very low values\n",
    "low_budget = df_zero_clean.query('budget_adj_2010 <= 10000')\n",
    "low_budget['budget_adj_2010'].count()"
   ]
  },
  {
   "cell_type": "code",
   "execution_count": 25,
   "metadata": {},
   "outputs": [
    {
     "data": {
      "text/plain": [
       "23"
      ]
     },
     "execution_count": 25,
     "metadata": {},
     "output_type": "execute_result"
    }
   ],
   "source": [
    "#checks for \"revenue_adj_2010\" very low values\n",
    "low_revenue = df_zero_clean.query('revenue_adj_2010 <= 10000')\n",
    "low_budget['revenue_adj_2010'].count()"
   ]
  },
  {
   "cell_type": "code",
   "execution_count": 26,
   "metadata": {},
   "outputs": [
    {
     "data": {
      "text/plain": [
       "21"
      ]
     },
     "execution_count": 26,
     "metadata": {},
     "output_type": "execute_result"
    }
   ],
   "source": [
    "#checks for even lower \"budget_adj_2010\" values\n",
    "lower_budget = df_zero_clean.query('budget_adj_2010 <= 1000')\n",
    "lower_budget['budget_adj_2010'].count()"
   ]
  },
  {
   "cell_type": "code",
   "execution_count": 27,
   "metadata": {},
   "outputs": [
    {
     "data": {
      "text/plain": [
       "21"
      ]
     },
     "execution_count": 27,
     "metadata": {},
     "output_type": "execute_result"
    }
   ],
   "source": [
    "#checks for even lower \"revenue_adj_2010\" values\n",
    "lower_revenue = df_zero_clean.query('revenue_adj_2010 <= 1000')\n",
    "lower_budget['revenue_adj_2010'].count()"
   ]
  },
  {
   "cell_type": "markdown",
   "metadata": {},
   "source": [
    ">**Note:**\n",
    ">\n",
    ">In the end, it was decided to maintain these rows. First, because there is not a large number of records. Second, because sometimes the record has an oddly low value for budget, for example, but an expected value for revenue, and vice versa."
   ]
  },
  {
   "cell_type": "markdown",
   "metadata": {},
   "source": [
    "<a id='eda'></a>\n",
    "## Exploratory Data Analysis\n",
    "\n",
    "### First Part ― df dataframe"
   ]
  },
  {
   "cell_type": "markdown",
   "metadata": {},
   "source": [
    "### Research question 1: \n",
    "### What is the \"vote average\" mean for each genre? And what are the top 3 genres in terms of the highest \"vote average\" mean?"
   ]
  },
  {
   "cell_type": "code",
   "execution_count": 63,
   "metadata": {},
   "outputs": [
    {
     "data": {
      "image/png": "[encoded data removed]",
      "text/plain": [
       "<Figure size 432x288 with 1 Axes>"
      ]
     },
     "metadata": {},
     "output_type": "display_data"
    }
   ],
   "source": [
    "#sets style\n",
    "sns.set_theme(style=\"whitegrid\")\n",
    "#plots the boxplot\n",
    "sns.boxplot(x=df['vote_average'], fliersize=2)\n",
    "#sets title and labels\n",
    "plt.title(\"Boxplot of movies average vote\")\n",
    "plt.xlabel(\"Vote averages distribution\");"
   ]
  },
  {
   "cell_type": "code",
   "execution_count": 29,
   "metadata": {},
   "outputs": [
    {
     "data": {
      "text/plain": [
       "count   10703.00\n",
       "mean        5.97\n",
       "std         0.93\n",
       "min         1.50\n",
       "25%         5.40\n",
       "50%         6.00\n",
       "75%         6.60\n",
       "max         9.20\n",
       "Name: vote_average, dtype: float64"
      ]
     },
     "execution_count": 29,
     "metadata": {},
     "output_type": "execute_result"
    }
   ],
   "source": [
    "df['vote_average'].describe()"
   ]
  },
  {
   "cell_type": "markdown",
   "metadata": {},
   "source": [
    ">**Note:**\n",
    ">From this boxplot and the basic statistical details, it is possible to notice that, although there are some outliers, the majority of the vote averages are between 5.4 and 6.6."
   ]
  },
  {
   "cell_type": "code",
   "execution_count": 30,
   "metadata": {},
   "outputs": [],
   "source": [
    "#makes a copy of \"df\" to work with genres splited genres\n",
    "df_splited_genre = df.copy(deep=True)"
   ]
  },
  {
   "cell_type": "code",
   "execution_count": 31,
   "metadata": {},
   "outputs": [
    {
     "data": {
      "text/html": [
       "<div>\n",
       "<style scoped>\n",
       "    .dataframe tbody tr th:only-of-type {\n",
       "        vertical-align: middle;\n",
       "    }\n",
       "\n",
       "    .dataframe tbody tr th {\n",
       "        vertical-align: top;\n",
       "    }\n",
       "\n",
       "    .dataframe thead th {\n",
       "        text-align: right;\n",
       "    }\n",
       "</style>\n",
       "<table border=\"1\" class=\"dataframe\">\n",
       "  <thead>\n",
       "    <tr style=\"text-align: right;\">\n",
       "      <th></th>\n",
       "      <th>id</th>\n",
       "      <th>original_title</th>\n",
       "      <th>cast</th>\n",
       "      <th>director</th>\n",
       "      <th>runtime</th>\n",
       "      <th>genres</th>\n",
       "      <th>release_date</th>\n",
       "      <th>vote_count</th>\n",
       "      <th>vote_average</th>\n",
       "      <th>release_year</th>\n",
       "      <th>budget_adj_2010</th>\n",
       "      <th>revenue_adj_2010</th>\n",
       "    </tr>\n",
       "  </thead>\n",
       "  <tbody>\n",
       "    <tr>\n",
       "      <th>0</th>\n",
       "      <td>135397</td>\n",
       "      <td>Jurassic World</td>\n",
       "      <td>Chris Pratt|Bryce Dallas Howard|Irrfan Khan|Vi...</td>\n",
       "      <td>Colin Trevorrow</td>\n",
       "      <td>124.00</td>\n",
       "      <td>[Action, Adventure, Science Fiction, Thriller]</td>\n",
       "      <td>2015-06-09</td>\n",
       "      <td>5562</td>\n",
       "      <td>6.50</td>\n",
       "      <td>2015</td>\n",
       "      <td>137999939</td>\n",
       "      <td>1392445892</td>\n",
       "    </tr>\n",
       "    <tr>\n",
       "      <th>1</th>\n",
       "      <td>76341</td>\n",
       "      <td>Mad Max: Fury Road</td>\n",
       "      <td>Tom Hardy|Charlize Theron|Hugh Keays-Byrne|Nic...</td>\n",
       "      <td>George Miller</td>\n",
       "      <td>120.00</td>\n",
       "      <td>[Action, Adventure, Science Fiction, Thriller]</td>\n",
       "      <td>2015-05-13</td>\n",
       "      <td>6185</td>\n",
       "      <td>7.10</td>\n",
       "      <td>2015</td>\n",
       "      <td>137999939</td>\n",
       "      <td>348161292</td>\n",
       "    </tr>\n",
       "    <tr>\n",
       "      <th>2</th>\n",
       "      <td>262500</td>\n",
       "      <td>Insurgent</td>\n",
       "      <td>Shailene Woodley|Theo James|Kate Winslet|Ansel...</td>\n",
       "      <td>Robert Schwentke</td>\n",
       "      <td>119.00</td>\n",
       "      <td>[Adventure, Science Fiction, Thriller]</td>\n",
       "      <td>2015-03-18</td>\n",
       "      <td>2480</td>\n",
       "      <td>6.30</td>\n",
       "      <td>2015</td>\n",
       "      <td>101199955</td>\n",
       "      <td>271619025</td>\n",
       "    </tr>\n",
       "    <tr>\n",
       "      <th>3</th>\n",
       "      <td>140607</td>\n",
       "      <td>Star Wars: The Force Awakens</td>\n",
       "      <td>Harrison Ford|Mark Hamill|Carrie Fisher|Adam D...</td>\n",
       "      <td>J.J. Abrams</td>\n",
       "      <td>136.00</td>\n",
       "      <td>[Action, Adventure, Science Fiction, Fantasy]</td>\n",
       "      <td>2015-12-15</td>\n",
       "      <td>5292</td>\n",
       "      <td>7.50</td>\n",
       "      <td>2015</td>\n",
       "      <td>183999919</td>\n",
       "      <td>1902723129</td>\n",
       "    </tr>\n",
       "    <tr>\n",
       "      <th>4</th>\n",
       "      <td>168259</td>\n",
       "      <td>Furious 7</td>\n",
       "      <td>Vin Diesel|Paul Walker|Jason Statham|Michelle ...</td>\n",
       "      <td>James Wan</td>\n",
       "      <td>137.00</td>\n",
       "      <td>[Action, Crime, Thriller]</td>\n",
       "      <td>2015-04-01</td>\n",
       "      <td>2947</td>\n",
       "      <td>7.30</td>\n",
       "      <td>2015</td>\n",
       "      <td>174799923</td>\n",
       "      <td>1385748801</td>\n",
       "    </tr>\n",
       "  </tbody>\n",
       "</table>\n",
       "</div>"
      ],
      "text/plain": [
       "       id                original_title  \\\n",
       "0  135397                Jurassic World   \n",
       "1   76341            Mad Max: Fury Road   \n",
       "2  262500                     Insurgent   \n",
       "3  140607  Star Wars: The Force Awakens   \n",
       "4  168259                     Furious 7   \n",
       "\n",
       "                                                cast          director  \\\n",
       "0  Chris Pratt|Bryce Dallas Howard|Irrfan Khan|Vi...   Colin Trevorrow   \n",
       "1  Tom Hardy|Charlize Theron|Hugh Keays-Byrne|Nic...     George Miller   \n",
       "2  Shailene Woodley|Theo James|Kate Winslet|Ansel...  Robert Schwentke   \n",
       "3  Harrison Ford|Mark Hamill|Carrie Fisher|Adam D...       J.J. Abrams   \n",
       "4  Vin Diesel|Paul Walker|Jason Statham|Michelle ...         James Wan   \n",
       "\n",
       "   runtime                                          genres release_date  \\\n",
       "0   124.00  [Action, Adventure, Science Fiction, Thriller]   2015-06-09   \n",
       "1   120.00  [Action, Adventure, Science Fiction, Thriller]   2015-05-13   \n",
       "2   119.00          [Adventure, Science Fiction, Thriller]   2015-03-18   \n",
       "3   136.00   [Action, Adventure, Science Fiction, Fantasy]   2015-12-15   \n",
       "4   137.00                       [Action, Crime, Thriller]   2015-04-01   \n",
       "\n",
       "   vote_count  vote_average  release_year  budget_adj_2010  revenue_adj_2010  \n",
       "0        5562          6.50          2015        137999939        1392445892  \n",
       "1        6185          7.10          2015        137999939         348161292  \n",
       "2        2480          6.30          2015        101199955         271619025  \n",
       "3        5292          7.50          2015        183999919        1902723129  \n",
       "4        2947          7.30          2015        174799923        1385748801  "
      ]
     },
     "execution_count": 31,
     "metadata": {},
     "output_type": "execute_result"
    }
   ],
   "source": [
    "#for the analysis by genre, it is necessary to split the concatenated genres\n",
    "#splits a string into a list, to create a list of genres per row\n",
    "df_splited_genre = df_splited_genre.assign(genres = df_splited_genre['genres'].str.split('|'))\n",
    "#checks changes\n",
    "df_splited_genre.head()"
   ]
  },
  {
   "cell_type": "code",
   "execution_count": 32,
   "metadata": {},
   "outputs": [],
   "source": [
    "#transforms each element of the list into separate rows\n",
    "df_splited_genre = df_splited_genre.explode('genres')"
   ]
  },
  {
   "cell_type": "code",
   "execution_count": 33,
   "metadata": {},
   "outputs": [
    {
     "data": {
      "text/html": [
       "<div>\n",
       "<style scoped>\n",
       "    .dataframe tbody tr th:only-of-type {\n",
       "        vertical-align: middle;\n",
       "    }\n",
       "\n",
       "    .dataframe tbody tr th {\n",
       "        vertical-align: top;\n",
       "    }\n",
       "\n",
       "    .dataframe thead th {\n",
       "        text-align: right;\n",
       "    }\n",
       "</style>\n",
       "<table border=\"1\" class=\"dataframe\">\n",
       "  <thead>\n",
       "    <tr style=\"text-align: right;\">\n",
       "      <th></th>\n",
       "      <th>id</th>\n",
       "      <th>original_title</th>\n",
       "      <th>cast</th>\n",
       "      <th>director</th>\n",
       "      <th>runtime</th>\n",
       "      <th>genres</th>\n",
       "      <th>release_date</th>\n",
       "      <th>vote_count</th>\n",
       "      <th>vote_average</th>\n",
       "      <th>release_year</th>\n",
       "      <th>budget_adj_2010</th>\n",
       "      <th>revenue_adj_2010</th>\n",
       "    </tr>\n",
       "  </thead>\n",
       "  <tbody>\n",
       "    <tr>\n",
       "      <th>0</th>\n",
       "      <td>135397</td>\n",
       "      <td>Jurassic World</td>\n",
       "      <td>Chris Pratt|Bryce Dallas Howard|Irrfan Khan|Vi...</td>\n",
       "      <td>Colin Trevorrow</td>\n",
       "      <td>124.00</td>\n",
       "      <td>Action</td>\n",
       "      <td>2015-06-09</td>\n",
       "      <td>5562</td>\n",
       "      <td>6.50</td>\n",
       "      <td>2015</td>\n",
       "      <td>137999939</td>\n",
       "      <td>1392445892</td>\n",
       "    </tr>\n",
       "    <tr>\n",
       "      <th>0</th>\n",
       "      <td>135397</td>\n",
       "      <td>Jurassic World</td>\n",
       "      <td>Chris Pratt|Bryce Dallas Howard|Irrfan Khan|Vi...</td>\n",
       "      <td>Colin Trevorrow</td>\n",
       "      <td>124.00</td>\n",
       "      <td>Adventure</td>\n",
       "      <td>2015-06-09</td>\n",
       "      <td>5562</td>\n",
       "      <td>6.50</td>\n",
       "      <td>2015</td>\n",
       "      <td>137999939</td>\n",
       "      <td>1392445892</td>\n",
       "    </tr>\n",
       "    <tr>\n",
       "      <th>0</th>\n",
       "      <td>135397</td>\n",
       "      <td>Jurassic World</td>\n",
       "      <td>Chris Pratt|Bryce Dallas Howard|Irrfan Khan|Vi...</td>\n",
       "      <td>Colin Trevorrow</td>\n",
       "      <td>124.00</td>\n",
       "      <td>Science Fiction</td>\n",
       "      <td>2015-06-09</td>\n",
       "      <td>5562</td>\n",
       "      <td>6.50</td>\n",
       "      <td>2015</td>\n",
       "      <td>137999939</td>\n",
       "      <td>1392445892</td>\n",
       "    </tr>\n",
       "    <tr>\n",
       "      <th>0</th>\n",
       "      <td>135397</td>\n",
       "      <td>Jurassic World</td>\n",
       "      <td>Chris Pratt|Bryce Dallas Howard|Irrfan Khan|Vi...</td>\n",
       "      <td>Colin Trevorrow</td>\n",
       "      <td>124.00</td>\n",
       "      <td>Thriller</td>\n",
       "      <td>2015-06-09</td>\n",
       "      <td>5562</td>\n",
       "      <td>6.50</td>\n",
       "      <td>2015</td>\n",
       "      <td>137999939</td>\n",
       "      <td>1392445892</td>\n",
       "    </tr>\n",
       "    <tr>\n",
       "      <th>1</th>\n",
       "      <td>76341</td>\n",
       "      <td>Mad Max: Fury Road</td>\n",
       "      <td>Tom Hardy|Charlize Theron|Hugh Keays-Byrne|Nic...</td>\n",
       "      <td>George Miller</td>\n",
       "      <td>120.00</td>\n",
       "      <td>Action</td>\n",
       "      <td>2015-05-13</td>\n",
       "      <td>6185</td>\n",
       "      <td>7.10</td>\n",
       "      <td>2015</td>\n",
       "      <td>137999939</td>\n",
       "      <td>348161292</td>\n",
       "    </tr>\n",
       "  </tbody>\n",
       "</table>\n",
       "</div>"
      ],
      "text/plain": [
       "       id      original_title  \\\n",
       "0  135397      Jurassic World   \n",
       "0  135397      Jurassic World   \n",
       "0  135397      Jurassic World   \n",
       "0  135397      Jurassic World   \n",
       "1   76341  Mad Max: Fury Road   \n",
       "\n",
       "                                                cast         director  \\\n",
       "0  Chris Pratt|Bryce Dallas Howard|Irrfan Khan|Vi...  Colin Trevorrow   \n",
       "0  Chris Pratt|Bryce Dallas Howard|Irrfan Khan|Vi...  Colin Trevorrow   \n",
       "0  Chris Pratt|Bryce Dallas Howard|Irrfan Khan|Vi...  Colin Trevorrow   \n",
       "0  Chris Pratt|Bryce Dallas Howard|Irrfan Khan|Vi...  Colin Trevorrow   \n",
       "1  Tom Hardy|Charlize Theron|Hugh Keays-Byrne|Nic...    George Miller   \n",
       "\n",
       "   runtime           genres release_date  vote_count  vote_average  \\\n",
       "0   124.00           Action   2015-06-09        5562          6.50   \n",
       "0   124.00        Adventure   2015-06-09        5562          6.50   \n",
       "0   124.00  Science Fiction   2015-06-09        5562          6.50   \n",
       "0   124.00         Thriller   2015-06-09        5562          6.50   \n",
       "1   120.00           Action   2015-05-13        6185          7.10   \n",
       "\n",
       "   release_year  budget_adj_2010  revenue_adj_2010  \n",
       "0          2015        137999939        1392445892  \n",
       "0          2015        137999939        1392445892  \n",
       "0          2015        137999939        1392445892  \n",
       "0          2015        137999939        1392445892  \n",
       "1          2015        137999939         348161292  "
      ]
     },
     "execution_count": 33,
     "metadata": {},
     "output_type": "execute_result"
    }
   ],
   "source": [
    "#checks changes\n",
    "df_splited_genre.head()"
   ]
  },
  {
   "cell_type": "code",
   "execution_count": 34,
   "metadata": {},
   "outputs": [
    {
     "data": {
      "text/plain": [
       "(26698, 12)"
      ]
     },
     "execution_count": 34,
     "metadata": {},
     "output_type": "execute_result"
    }
   ],
   "source": [
    "#checks changes in the number of rows\n",
    "df_splited_genre.shape"
   ]
  },
  {
   "cell_type": "code",
   "execution_count": 35,
   "metadata": {},
   "outputs": [],
   "source": [
    "#group the data by genre and find the vote average mean, sorted in ascending order\n",
    "vote_mean_genre = df_splited_genre.groupby('genres').vote_average.mean().sort_values()"
   ]
  },
  {
   "cell_type": "code",
   "execution_count": 36,
   "metadata": {},
   "outputs": [
    {
     "data": {
      "image/png": "[encoded data removed]",
      "text/plain": [
       "<Figure size 1008x576 with 1 Axes>"
      ]
     },
     "metadata": {},
     "output_type": "display_data"
    }
   ],
   "source": [
    "#sets bar chart's size (width, height)\n",
    "plt.figure(figsize=(14, 8))\n",
    "#sets the x-limits of the current axes\n",
    "plt.xlim(0, 10)\n",
    "#plots the bar chart\n",
    "ax = vote_mean_genre.plot.barh()\n",
    "#sets title and labels\n",
    "ax.set_title(\"Mean vote average of each movie genre\", fontsize=14)\n",
    "ax.set_ylabel('Movies genres', fontsize=12)\n",
    "ax.set_xlabel(\"Mean vote average\", fontsize=12)\n",
    "#for each bar in the bar chart set individual bar lables\n",
    "for patch in ax.patches:\n",
    "    ax.text(\n",
    "#get_x pulls left or right; get_height pushes up or down\n",
    "        patch.get_width(), \n",
    "        patch.get_y(),\n",
    "#sets decimals places\n",
    "        \" {:.3}\".format(patch.get_width()),\n",
    "#sets font' style\n",
    "        fontsize=11,\n",
    "        fontweight='bold',\n",
    "        color='dimgrey')"
   ]
  },
  {
   "cell_type": "markdown",
   "metadata": {},
   "source": [
    ">**Note:**\n",
    ">It can be seen from the chart that the mean \"vote average\" of each movie genre varies from 5.34 to 6.91. Documentary has the highest mean and Horror the lowest."
   ]
  },
  {
   "cell_type": "markdown",
   "metadata": {},
   "source": [
    "### Research question 2:\n",
    "### For the movies with the 25% highest vote averages, what is the \"vote average\" mean in each genre? And what are the top 3 genres in terms of the highest\"vote average\" mean?"
   ]
  },
  {
   "cell_type": "code",
   "execution_count": 37,
   "metadata": {},
   "outputs": [],
   "source": [
    "#makes a copy of \"df\" to work with vote average levels\n",
    "df_va_level = df.copy(deep=True)"
   ]
  },
  {
   "cell_type": "code",
   "execution_count": 38,
   "metadata": {},
   "outputs": [],
   "source": [
    "def cut_into_quantile(dfname, column_name):\n",
    "    \"\"\"\n",
    "    Cuts the data into quartile\n",
    "    Returns:\n",
    "    df - Pandas DataFrame containing a new column that classifies the chosen variable in four level groups\n",
    "    \"\"\"\n",
    "#finds the min, quartiles and max values\n",
    "    min_value = dfname[column_name].min()\n",
    "    first_quantile = dfname[column_name].describe()[4]\n",
    "    second_quantile = dfname[column_name].describe()[5]\n",
    "    third_quantile = dfname[column_name].describe()[6]\n",
    "    max_value = dfname[column_name].max()\n",
    "#bins edges that will be used to \"cut\" the data into groups\n",
    "    bin_edges = [min_value, first_quantile, second_quantile, third_quantile, max_value]\n",
    "#labels for the four level groups\n",
    "    bin_names = ['low', 'medium', 'mod_high', 'high'] \n",
    "#creates the name of the new \"levels\" column\n",
    "    name = '{}_levels'.format(column_name)\n",
    "    dfname[name] = pd.cut(dfname[column_name], bin_edges, labels=bin_names)\n",
    "    return dfname"
   ]
  },
  {
   "cell_type": "code",
   "execution_count": 39,
   "metadata": {},
   "outputs": [
    {
     "data": {
      "text/html": [
       "<div>\n",
       "<style scoped>\n",
       "    .dataframe tbody tr th:only-of-type {\n",
       "        vertical-align: middle;\n",
       "    }\n",
       "\n",
       "    .dataframe tbody tr th {\n",
       "        vertical-align: top;\n",
       "    }\n",
       "\n",
       "    .dataframe thead th {\n",
       "        text-align: right;\n",
       "    }\n",
       "</style>\n",
       "<table border=\"1\" class=\"dataframe\">\n",
       "  <thead>\n",
       "    <tr style=\"text-align: right;\">\n",
       "      <th></th>\n",
       "      <th>id</th>\n",
       "      <th>original_title</th>\n",
       "      <th>cast</th>\n",
       "      <th>director</th>\n",
       "      <th>runtime</th>\n",
       "      <th>genres</th>\n",
       "      <th>release_date</th>\n",
       "      <th>vote_count</th>\n",
       "      <th>vote_average</th>\n",
       "      <th>release_year</th>\n",
       "      <th>budget_adj_2010</th>\n",
       "      <th>revenue_adj_2010</th>\n",
       "      <th>vote_average_levels</th>\n",
       "    </tr>\n",
       "  </thead>\n",
       "  <tbody>\n",
       "    <tr>\n",
       "      <th>0</th>\n",
       "      <td>135397</td>\n",
       "      <td>Jurassic World</td>\n",
       "      <td>Chris Pratt|Bryce Dallas Howard|Irrfan Khan|Vi...</td>\n",
       "      <td>Colin Trevorrow</td>\n",
       "      <td>124.00</td>\n",
       "      <td>Action|Adventure|Science Fiction|Thriller</td>\n",
       "      <td>2015-06-09</td>\n",
       "      <td>5562</td>\n",
       "      <td>6.50</td>\n",
       "      <td>2015</td>\n",
       "      <td>137999939</td>\n",
       "      <td>1392445892</td>\n",
       "      <td>mod_high</td>\n",
       "    </tr>\n",
       "    <tr>\n",
       "      <th>1</th>\n",
       "      <td>76341</td>\n",
       "      <td>Mad Max: Fury Road</td>\n",
       "      <td>Tom Hardy|Charlize Theron|Hugh Keays-Byrne|Nic...</td>\n",
       "      <td>George Miller</td>\n",
       "      <td>120.00</td>\n",
       "      <td>Action|Adventure|Science Fiction|Thriller</td>\n",
       "      <td>2015-05-13</td>\n",
       "      <td>6185</td>\n",
       "      <td>7.10</td>\n",
       "      <td>2015</td>\n",
       "      <td>137999939</td>\n",
       "      <td>348161292</td>\n",
       "      <td>high</td>\n",
       "    </tr>\n",
       "    <tr>\n",
       "      <th>2</th>\n",
       "      <td>262500</td>\n",
       "      <td>Insurgent</td>\n",
       "      <td>Shailene Woodley|Theo James|Kate Winslet|Ansel...</td>\n",
       "      <td>Robert Schwentke</td>\n",
       "      <td>119.00</td>\n",
       "      <td>Adventure|Science Fiction|Thriller</td>\n",
       "      <td>2015-03-18</td>\n",
       "      <td>2480</td>\n",
       "      <td>6.30</td>\n",
       "      <td>2015</td>\n",
       "      <td>101199955</td>\n",
       "      <td>271619025</td>\n",
       "      <td>mod_high</td>\n",
       "    </tr>\n",
       "    <tr>\n",
       "      <th>3</th>\n",
       "      <td>140607</td>\n",
       "      <td>Star Wars: The Force Awakens</td>\n",
       "      <td>Harrison Ford|Mark Hamill|Carrie Fisher|Adam D...</td>\n",
       "      <td>J.J. Abrams</td>\n",
       "      <td>136.00</td>\n",
       "      <td>Action|Adventure|Science Fiction|Fantasy</td>\n",
       "      <td>2015-12-15</td>\n",
       "      <td>5292</td>\n",
       "      <td>7.50</td>\n",
       "      <td>2015</td>\n",
       "      <td>183999919</td>\n",
       "      <td>1902723129</td>\n",
       "      <td>high</td>\n",
       "    </tr>\n",
       "    <tr>\n",
       "      <th>4</th>\n",
       "      <td>168259</td>\n",
       "      <td>Furious 7</td>\n",
       "      <td>Vin Diesel|Paul Walker|Jason Statham|Michelle ...</td>\n",
       "      <td>James Wan</td>\n",
       "      <td>137.00</td>\n",
       "      <td>Action|Crime|Thriller</td>\n",
       "      <td>2015-04-01</td>\n",
       "      <td>2947</td>\n",
       "      <td>7.30</td>\n",
       "      <td>2015</td>\n",
       "      <td>174799923</td>\n",
       "      <td>1385748801</td>\n",
       "      <td>high</td>\n",
       "    </tr>\n",
       "    <tr>\n",
       "      <th>...</th>\n",
       "      <td>...</td>\n",
       "      <td>...</td>\n",
       "      <td>...</td>\n",
       "      <td>...</td>\n",
       "      <td>...</td>\n",
       "      <td>...</td>\n",
       "      <td>...</td>\n",
       "      <td>...</td>\n",
       "      <td>...</td>\n",
       "      <td>...</td>\n",
       "      <td>...</td>\n",
       "      <td>...</td>\n",
       "      <td>...</td>\n",
       "    </tr>\n",
       "    <tr>\n",
       "      <th>10861</th>\n",
       "      <td>21</td>\n",
       "      <td>The Endless Summer</td>\n",
       "      <td>Michael Hynson|Robert August|Lord 'Tally Ho' B...</td>\n",
       "      <td>Bruce Brown</td>\n",
       "      <td>95.00</td>\n",
       "      <td>Documentary</td>\n",
       "      <td>2066-06-15</td>\n",
       "      <td>11</td>\n",
       "      <td>7.40</td>\n",
       "      <td>1966</td>\n",
       "      <td>0</td>\n",
       "      <td>0</td>\n",
       "      <td>high</td>\n",
       "    </tr>\n",
       "    <tr>\n",
       "      <th>10862</th>\n",
       "      <td>20379</td>\n",
       "      <td>Grand Prix</td>\n",
       "      <td>James Garner|Eva Marie Saint|Yves Montand|Tosh...</td>\n",
       "      <td>John Frankenheimer</td>\n",
       "      <td>176.00</td>\n",
       "      <td>Action|Adventure|Drama</td>\n",
       "      <td>2066-12-21</td>\n",
       "      <td>20</td>\n",
       "      <td>5.70</td>\n",
       "      <td>1966</td>\n",
       "      <td>0</td>\n",
       "      <td>0</td>\n",
       "      <td>medium</td>\n",
       "    </tr>\n",
       "    <tr>\n",
       "      <th>10863</th>\n",
       "      <td>39768</td>\n",
       "      <td>Beregis Avtomobilya</td>\n",
       "      <td>Innokentiy Smoktunovskiy|Oleg Efremov|Georgi Z...</td>\n",
       "      <td>Eldar Ryazanov</td>\n",
       "      <td>94.00</td>\n",
       "      <td>Mystery|Comedy</td>\n",
       "      <td>2066-01-01</td>\n",
       "      <td>11</td>\n",
       "      <td>6.50</td>\n",
       "      <td>1966</td>\n",
       "      <td>0</td>\n",
       "      <td>0</td>\n",
       "      <td>mod_high</td>\n",
       "    </tr>\n",
       "    <tr>\n",
       "      <th>10864</th>\n",
       "      <td>21449</td>\n",
       "      <td>What's Up, Tiger Lily?</td>\n",
       "      <td>Tatsuya Mihashi|Akiko Wakabayashi|Mie Hama|Joh...</td>\n",
       "      <td>Woody Allen</td>\n",
       "      <td>80.00</td>\n",
       "      <td>Action|Comedy</td>\n",
       "      <td>2066-11-02</td>\n",
       "      <td>22</td>\n",
       "      <td>5.40</td>\n",
       "      <td>1966</td>\n",
       "      <td>0</td>\n",
       "      <td>0</td>\n",
       "      <td>low</td>\n",
       "    </tr>\n",
       "    <tr>\n",
       "      <th>10865</th>\n",
       "      <td>22293</td>\n",
       "      <td>Manos: The Hands of Fate</td>\n",
       "      <td>Harold P. Warren|Tom Neyman|John Reynolds|Dian...</td>\n",
       "      <td>Harold P. Warren</td>\n",
       "      <td>74.00</td>\n",
       "      <td>Horror</td>\n",
       "      <td>2066-11-15</td>\n",
       "      <td>15</td>\n",
       "      <td>1.50</td>\n",
       "      <td>1966</td>\n",
       "      <td>127642</td>\n",
       "      <td>0</td>\n",
       "      <td>NaN</td>\n",
       "    </tr>\n",
       "  </tbody>\n",
       "</table>\n",
       "<p>10703 rows × 13 columns</p>\n",
       "</div>"
      ],
      "text/plain": [
       "           id                original_title  \\\n",
       "0      135397                Jurassic World   \n",
       "1       76341            Mad Max: Fury Road   \n",
       "2      262500                     Insurgent   \n",
       "3      140607  Star Wars: The Force Awakens   \n",
       "4      168259                     Furious 7   \n",
       "...       ...                           ...   \n",
       "10861      21            The Endless Summer   \n",
       "10862   20379                    Grand Prix   \n",
       "10863   39768           Beregis Avtomobilya   \n",
       "10864   21449        What's Up, Tiger Lily?   \n",
       "10865   22293      Manos: The Hands of Fate   \n",
       "\n",
       "                                                    cast            director  \\\n",
       "0      Chris Pratt|Bryce Dallas Howard|Irrfan Khan|Vi...     Colin Trevorrow   \n",
       "1      Tom Hardy|Charlize Theron|Hugh Keays-Byrne|Nic...       George Miller   \n",
       "2      Shailene Woodley|Theo James|Kate Winslet|Ansel...    Robert Schwentke   \n",
       "3      Harrison Ford|Mark Hamill|Carrie Fisher|Adam D...         J.J. Abrams   \n",
       "4      Vin Diesel|Paul Walker|Jason Statham|Michelle ...           James Wan   \n",
       "...                                                  ...                 ...   \n",
       "10861  Michael Hynson|Robert August|Lord 'Tally Ho' B...         Bruce Brown   \n",
       "10862  James Garner|Eva Marie Saint|Yves Montand|Tosh...  John Frankenheimer   \n",
       "10863  Innokentiy Smoktunovskiy|Oleg Efremov|Georgi Z...      Eldar Ryazanov   \n",
       "10864  Tatsuya Mihashi|Akiko Wakabayashi|Mie Hama|Joh...         Woody Allen   \n",
       "10865  Harold P. Warren|Tom Neyman|John Reynolds|Dian...    Harold P. Warren   \n",
       "\n",
       "       runtime                                     genres release_date  \\\n",
       "0       124.00  Action|Adventure|Science Fiction|Thriller   2015-06-09   \n",
       "1       120.00  Action|Adventure|Science Fiction|Thriller   2015-05-13   \n",
       "2       119.00         Adventure|Science Fiction|Thriller   2015-03-18   \n",
       "3       136.00   Action|Adventure|Science Fiction|Fantasy   2015-12-15   \n",
       "4       137.00                      Action|Crime|Thriller   2015-04-01   \n",
       "...        ...                                        ...          ...   \n",
       "10861    95.00                                Documentary   2066-06-15   \n",
       "10862   176.00                     Action|Adventure|Drama   2066-12-21   \n",
       "10863    94.00                             Mystery|Comedy   2066-01-01   \n",
       "10864    80.00                              Action|Comedy   2066-11-02   \n",
       "10865    74.00                                     Horror   2066-11-15   \n",
       "\n",
       "       vote_count  vote_average  release_year  budget_adj_2010  \\\n",
       "0            5562          6.50          2015        137999939   \n",
       "1            6185          7.10          2015        137999939   \n",
       "2            2480          6.30          2015        101199955   \n",
       "3            5292          7.50          2015        183999919   \n",
       "4            2947          7.30          2015        174799923   \n",
       "...           ...           ...           ...              ...   \n",
       "10861          11          7.40          1966                0   \n",
       "10862          20          5.70          1966                0   \n",
       "10863          11          6.50          1966                0   \n",
       "10864          22          5.40          1966                0   \n",
       "10865          15          1.50          1966           127642   \n",
       "\n",
       "       revenue_adj_2010 vote_average_levels  \n",
       "0            1392445892            mod_high  \n",
       "1             348161292                high  \n",
       "2             271619025            mod_high  \n",
       "3            1902723129                high  \n",
       "4            1385748801                high  \n",
       "...                 ...                 ...  \n",
       "10861                 0                high  \n",
       "10862                 0              medium  \n",
       "10863                 0            mod_high  \n",
       "10864                 0                 low  \n",
       "10865                 0                 NaN  \n",
       "\n",
       "[10703 rows x 13 columns]"
      ]
     },
     "execution_count": 39,
     "metadata": {},
     "output_type": "execute_result"
    }
   ],
   "source": [
    "#cuts the data into quartile\n",
    "cut_into_quantile(df_va_level, 'vote_average')"
   ]
  },
  {
   "cell_type": "code",
   "execution_count": 40,
   "metadata": {},
   "outputs": [],
   "source": [
    "#splits a string into a list, to create a list of genres per row\n",
    "df_va_level = df_va_level.assign(genres = df_va_level['genres'].str.split('|'))"
   ]
  },
  {
   "cell_type": "code",
   "execution_count": 41,
   "metadata": {},
   "outputs": [],
   "source": [
    "#transforms each element of the list into separate rows\n",
    "df_va_level = df_va_level.explode('genres')"
   ]
  },
  {
   "cell_type": "code",
   "execution_count": 42,
   "metadata": {},
   "outputs": [
    {
     "data": {
      "text/html": [
       "<div>\n",
       "<style scoped>\n",
       "    .dataframe tbody tr th:only-of-type {\n",
       "        vertical-align: middle;\n",
       "    }\n",
       "\n",
       "    .dataframe tbody tr th {\n",
       "        vertical-align: top;\n",
       "    }\n",
       "\n",
       "    .dataframe thead th {\n",
       "        text-align: right;\n",
       "    }\n",
       "</style>\n",
       "<table border=\"1\" class=\"dataframe\">\n",
       "  <thead>\n",
       "    <tr style=\"text-align: right;\">\n",
       "      <th></th>\n",
       "      <th>id</th>\n",
       "      <th>original_title</th>\n",
       "      <th>cast</th>\n",
       "      <th>director</th>\n",
       "      <th>runtime</th>\n",
       "      <th>genres</th>\n",
       "      <th>release_date</th>\n",
       "      <th>vote_count</th>\n",
       "      <th>vote_average</th>\n",
       "      <th>release_year</th>\n",
       "      <th>budget_adj_2010</th>\n",
       "      <th>revenue_adj_2010</th>\n",
       "      <th>vote_average_levels</th>\n",
       "    </tr>\n",
       "  </thead>\n",
       "  <tbody>\n",
       "    <tr>\n",
       "      <th>0</th>\n",
       "      <td>135397</td>\n",
       "      <td>Jurassic World</td>\n",
       "      <td>Chris Pratt|Bryce Dallas Howard|Irrfan Khan|Vi...</td>\n",
       "      <td>Colin Trevorrow</td>\n",
       "      <td>124.00</td>\n",
       "      <td>Action</td>\n",
       "      <td>2015-06-09</td>\n",
       "      <td>5562</td>\n",
       "      <td>6.50</td>\n",
       "      <td>2015</td>\n",
       "      <td>137999939</td>\n",
       "      <td>1392445892</td>\n",
       "      <td>mod_high</td>\n",
       "    </tr>\n",
       "    <tr>\n",
       "      <th>0</th>\n",
       "      <td>135397</td>\n",
       "      <td>Jurassic World</td>\n",
       "      <td>Chris Pratt|Bryce Dallas Howard|Irrfan Khan|Vi...</td>\n",
       "      <td>Colin Trevorrow</td>\n",
       "      <td>124.00</td>\n",
       "      <td>Adventure</td>\n",
       "      <td>2015-06-09</td>\n",
       "      <td>5562</td>\n",
       "      <td>6.50</td>\n",
       "      <td>2015</td>\n",
       "      <td>137999939</td>\n",
       "      <td>1392445892</td>\n",
       "      <td>mod_high</td>\n",
       "    </tr>\n",
       "    <tr>\n",
       "      <th>0</th>\n",
       "      <td>135397</td>\n",
       "      <td>Jurassic World</td>\n",
       "      <td>Chris Pratt|Bryce Dallas Howard|Irrfan Khan|Vi...</td>\n",
       "      <td>Colin Trevorrow</td>\n",
       "      <td>124.00</td>\n",
       "      <td>Science Fiction</td>\n",
       "      <td>2015-06-09</td>\n",
       "      <td>5562</td>\n",
       "      <td>6.50</td>\n",
       "      <td>2015</td>\n",
       "      <td>137999939</td>\n",
       "      <td>1392445892</td>\n",
       "      <td>mod_high</td>\n",
       "    </tr>\n",
       "    <tr>\n",
       "      <th>0</th>\n",
       "      <td>135397</td>\n",
       "      <td>Jurassic World</td>\n",
       "      <td>Chris Pratt|Bryce Dallas Howard|Irrfan Khan|Vi...</td>\n",
       "      <td>Colin Trevorrow</td>\n",
       "      <td>124.00</td>\n",
       "      <td>Thriller</td>\n",
       "      <td>2015-06-09</td>\n",
       "      <td>5562</td>\n",
       "      <td>6.50</td>\n",
       "      <td>2015</td>\n",
       "      <td>137999939</td>\n",
       "      <td>1392445892</td>\n",
       "      <td>mod_high</td>\n",
       "    </tr>\n",
       "    <tr>\n",
       "      <th>1</th>\n",
       "      <td>76341</td>\n",
       "      <td>Mad Max: Fury Road</td>\n",
       "      <td>Tom Hardy|Charlize Theron|Hugh Keays-Byrne|Nic...</td>\n",
       "      <td>George Miller</td>\n",
       "      <td>120.00</td>\n",
       "      <td>Action</td>\n",
       "      <td>2015-05-13</td>\n",
       "      <td>6185</td>\n",
       "      <td>7.10</td>\n",
       "      <td>2015</td>\n",
       "      <td>137999939</td>\n",
       "      <td>348161292</td>\n",
       "      <td>high</td>\n",
       "    </tr>\n",
       "  </tbody>\n",
       "</table>\n",
       "</div>"
      ],
      "text/plain": [
       "       id      original_title  \\\n",
       "0  135397      Jurassic World   \n",
       "0  135397      Jurassic World   \n",
       "0  135397      Jurassic World   \n",
       "0  135397      Jurassic World   \n",
       "1   76341  Mad Max: Fury Road   \n",
       "\n",
       "                                                cast         director  \\\n",
       "0  Chris Pratt|Bryce Dallas Howard|Irrfan Khan|Vi...  Colin Trevorrow   \n",
       "0  Chris Pratt|Bryce Dallas Howard|Irrfan Khan|Vi...  Colin Trevorrow   \n",
       "0  Chris Pratt|Bryce Dallas Howard|Irrfan Khan|Vi...  Colin Trevorrow   \n",
       "0  Chris Pratt|Bryce Dallas Howard|Irrfan Khan|Vi...  Colin Trevorrow   \n",
       "1  Tom Hardy|Charlize Theron|Hugh Keays-Byrne|Nic...    George Miller   \n",
       "\n",
       "   runtime           genres release_date  vote_count  vote_average  \\\n",
       "0   124.00           Action   2015-06-09        5562          6.50   \n",
       "0   124.00        Adventure   2015-06-09        5562          6.50   \n",
       "0   124.00  Science Fiction   2015-06-09        5562          6.50   \n",
       "0   124.00         Thriller   2015-06-09        5562          6.50   \n",
       "1   120.00           Action   2015-05-13        6185          7.10   \n",
       "\n",
       "   release_year  budget_adj_2010  revenue_adj_2010 vote_average_levels  \n",
       "0          2015        137999939        1392445892            mod_high  \n",
       "0          2015        137999939        1392445892            mod_high  \n",
       "0          2015        137999939        1392445892            mod_high  \n",
       "0          2015        137999939        1392445892            mod_high  \n",
       "1          2015        137999939         348161292                high  "
      ]
     },
     "execution_count": 42,
     "metadata": {},
     "output_type": "execute_result"
    }
   ],
   "source": [
    "#checks changes\n",
    "df_va_level.head()"
   ]
  },
  {
   "cell_type": "code",
   "execution_count": 43,
   "metadata": {},
   "outputs": [],
   "source": [
    "#selects the rows with \"high\" \"'vote_average_levels\"\n",
    "high_vote_avg = df_va_level.query('vote_average_levels == \"high\"')"
   ]
  },
  {
   "cell_type": "code",
   "execution_count": 44,
   "metadata": {},
   "outputs": [],
   "source": [
    "#group the data by genre and find the vote average mean, sorted in ascending order\n",
    "highvc_va_mean = high_vote_avg.groupby('genres').vote_average.mean().sort_values()"
   ]
  },
  {
   "cell_type": "code",
   "execution_count": 45,
   "metadata": {},
   "outputs": [
    {
     "data": {
      "image/png": "[encoded data removed]",
      "text/plain": [
       "<Figure size 1008x576 with 1 Axes>"
      ]
     },
     "metadata": {},
     "output_type": "display_data"
    }
   ],
   "source": [
    "#sets bar chart's size (width, height)\n",
    "plt.figure(figsize=(14, 8))\n",
    "#sets the x-limits of the current axes\n",
    "plt.xlim(0, 10)\n",
    "#plots the bar chart\n",
    "ax = highvc_va_mean.plot.barh(color=\"tomato\")\n",
    "#sets title and labels\n",
    "ax.set_title(\"25% highest vote averages movies: Mean vote average in each genre\", fontsize=14)\n",
    "ax.set_ylabel('Movies genres', fontsize=12)\n",
    "ax.set_xlabel(\"Mean vote average\", fontsize=12)\n",
    "#for each bar in the bar chart set individual bar lables\n",
    "for patch in ax.patches:\n",
    "#get_x pulls left or right; get_height pushes up or down and sets n. decimals\n",
    "    ax.text(\n",
    "#get_x pulls left or right; get_height pushes up or down\n",
    "        patch.get_width(), \n",
    "        patch.get_y(),\n",
    "#sets decimals places\n",
    "        \" {:.3}\".format(patch.get_width()),\n",
    "        fontsize=11)"
   ]
  },
  {
   "cell_type": "markdown",
   "metadata": {},
   "source": [
    ">**Note:**\n",
    ">Among the movies with the 25% highest \"vote averages\", the chart shows that the mean \"vote average\" of each movie genre varies from 7.01 to 7.31. Once again, Documentary has the highest mean and Horror the lowest."
   ]
  },
  {
   "cell_type": "markdown",
   "metadata": {},
   "source": [
    "### Second Part ― df_zero_clean dataframe"
   ]
  },
  {
   "cell_type": "markdown",
   "metadata": {},
   "source": [
    "In this second part, the “df_zero_clean” is going to be the main data frame used."
   ]
  },
  {
   "cell_type": "code",
   "execution_count": 46,
   "metadata": {},
   "outputs": [],
   "source": [
    "#calculates counts of movies released per year\n",
    "movies_year_count1 = df.groupby('release_year').id.count()\n",
    "movies_year_count2 = df_zero_clean.groupby('release_year').id.count()\n",
    "#build the index location for x-axis\n",
    "index_count1 = movies_year_count1.index\n",
    "index_count2 = movies_year_count2.index"
   ]
  },
  {
   "cell_type": "code",
   "execution_count": 47,
   "metadata": {},
   "outputs": [
    {
     "data": {
      "image/png": "[encoded data removed]",
      "text/plain": [
       "<Figure size 864x432 with 1 Axes>"
      ]
     },
     "metadata": {},
     "output_type": "display_data"
    }
   ],
   "source": [
    "#sets style\n",
    "sns.set_style('whitegrid')\n",
    "#sets x, y axis data\n",
    "#x1, y1 for mean data; x2, y2 for median data\n",
    "x1, y1 = index_count1, movies_year_count1\n",
    "x2, y2 = index_count2, movies_year_count2\n",
    "#sets size\n",
    "plt.figure(figsize=(12, 6))\n",
    "#plots line chart for mean and median\n",
    "plt.plot(x1, y1, color = 'g', label = 'df')\n",
    "plt.plot(x2, y2, color = 'r', label = 'df_zero_clean')\n",
    "#sets title and labels\n",
    "plt.title('Movies released over the years: df x df_zero_clean', fontsize=15)\n",
    "plt.xlabel('Year', fontsize=12)\n",
    "plt.ylabel('Number of released movies',  fontsize=12)\n",
    "#sets legend\n",
    "plt.legend(loc='upper left');"
   ]
  },
  {
   "cell_type": "code",
   "execution_count": 48,
   "metadata": {},
   "outputs": [
    {
     "data": {
      "text/plain": [
       "(10703, 12)"
      ]
     },
     "execution_count": 48,
     "metadata": {},
     "output_type": "execute_result"
    }
   ],
   "source": [
    "df.shape"
   ]
  },
  {
   "cell_type": "code",
   "execution_count": 49,
   "metadata": {},
   "outputs": [
    {
     "data": {
      "text/plain": [
       "(3848, 12)"
      ]
     },
     "execution_count": 49,
     "metadata": {},
     "output_type": "execute_result"
    }
   ],
   "source": [
    "df_zero_clean.shape"
   ]
  },
  {
   "cell_type": "markdown",
   "metadata": {},
   "source": [
    ">**Note:**\n",
    ">There are significant differences between  the “df” and the “df_zero_clean” data frames. The first one has 10703 rows, while the second one has only 3848 rows. Despite that difference, initially, the number of movies released per year grows similarly. However, in the last 10 years of this period, the “df” increases much more rapidly, creating a greater distinction between both data frames, especially, when it comes to more recent movies."
   ]
  },
  {
   "cell_type": "markdown",
   "metadata": {},
   "source": [
    "### Research question 3: \n",
    "### How does budget correlate to revenue?"
   ]
  },
  {
   "cell_type": "code",
   "execution_count": 71,
   "metadata": {},
   "outputs": [
    {
     "data": {
      "image/png": "[encoded data removed]",
      "text/plain": [
       "<Figure size 432x288 with 1 Axes>"
      ]
     },
     "metadata": {},
     "output_type": "display_data"
    }
   ],
   "source": [
    "#plots the histogram\n",
    "df_zero_clean['budget_adj_2010'].hist(bins=20)\n",
    "#sets title and labels\n",
    "plt.xlabel('Budget (2010 US$)')\n",
    "plt.ylabel('Frequency')\n",
    "plt.title('Movie budget distribution');"
   ]
  },
  {
   "cell_type": "code",
   "execution_count": 51,
   "metadata": {},
   "outputs": [
    {
     "data": {
      "text/plain": [
       "count        3848.00\n",
       "mean     44305111.97\n",
       "std      44813734.19\n",
       "min             1.00\n",
       "25%      13184093.25\n",
       "50%      30079259.50\n",
       "75%      60767198.00\n",
       "max     425000000.00\n",
       "Name: budget_adj_2010, dtype: float64"
      ]
     },
     "execution_count": 51,
     "metadata": {},
     "output_type": "execute_result"
    }
   ],
   "source": [
    "df_zero_clean['budget_adj_2010'].describe()"
   ]
  },
  {
   "cell_type": "markdown",
   "metadata": {},
   "source": [
    ">**Note:**\n",
    ">This histogram is very skewed to the right, showing that the majority of the movie budgets was less than 2010 US$100 million."
   ]
  },
  {
   "cell_type": "code",
   "execution_count": 70,
   "metadata": {},
   "outputs": [
    {
     "data": {
      "image/png": "[encoded data removed]",
      "text/plain": [
       "<Figure size 432x288 with 1 Axes>"
      ]
     },
     "metadata": {},
     "output_type": "display_data"
    }
   ],
   "source": [
    "#plots the histogram\n",
    "df_zero_clean['revenue_adj_2010'].hist(bins=20)\n",
    "#sets title and labels\n",
    "plt.xlabel('Revenue (2010 US$)')\n",
    "plt.ylabel('Frequency')\n",
    "plt.title('Movie revenue distribution');"
   ]
  },
  {
   "cell_type": "code",
   "execution_count": 65,
   "metadata": {},
   "outputs": [
    {
     "data": {
      "text/plain": [
       "count        10288.00\n",
       "mean     151957652.35\n",
       "std      232517112.85\n",
       "min              2.00\n",
       "25%       20454087.00\n",
       "50%       68728888.00\n",
       "75%      182616657.00\n",
       "max     2827123750.00\n",
       "Name: revenue_adj_2010, dtype: float64"
      ]
     },
     "execution_count": 65,
     "metadata": {},
     "output_type": "execute_result"
    }
   ],
   "source": [
    "df_zero_clean['revenue_adj_2010'].describe()"
   ]
  },
  {
   "cell_type": "markdown",
   "metadata": {},
   "source": [
    ">**Note:**\n",
    ">This histogram is also very skewed to the right and shows that the majority of the movie revenues was less than 2010 US$ 100 million."
   ]
  },
  {
   "cell_type": "code",
   "execution_count": 54,
   "metadata": {},
   "outputs": [
    {
     "data": {
      "image/png": "[encoded data removed]",
      "text/plain": [
       "<Figure size 576x576 with 1 Axes>"
      ]
     },
     "metadata": {},
     "output_type": "display_data"
    }
   ],
   "source": [
    "#sets the figure size \n",
    "plt.subplots(figsize=(8,8))\n",
    "#plots the scatterplot\n",
    "plt.scatter(x=df_zero_clean['budget_adj_2010'], y=df_zero_clean['revenue_adj_2010'], color='forestgreen')\n",
    "#sets title and labels\n",
    "plt.xlabel('Budget (2010 US$)',color='black', fontsize = 12)\n",
    "plt.ylabel('Revenue (2010 US$)',color='black', fontsize = 12)\n",
    "plt.title('Budget vs revenue ',color='black', fontsize = 18);"
   ]
  },
  {
   "cell_type": "code",
   "execution_count": 55,
   "metadata": {},
   "outputs": [
    {
     "data": {
      "text/plain": [
       "0.5701264193677148"
      ]
     },
     "execution_count": 55,
     "metadata": {},
     "output_type": "execute_result"
    }
   ],
   "source": [
    "#Pearson correlation coefficient between budget and revenue\n",
    "correlation_coef = df_zero_clean['budget_adj_2010'].corr(df_zero_clean['revenue_adj_2010'],method='pearson')\n",
    "correlation_coef"
   ]
  },
  {
   "cell_type": "markdown",
   "metadata": {},
   "source": [
    ">**Note:**\n",
    ">From this scatter plot and the correlation coefficient, it appears to be a slightly positive relationship between budget and revenue."
   ]
  },
  {
   "cell_type": "markdown",
   "metadata": {},
   "source": [
    "### Research Question 4:\n",
    "### What are the movie genres with the highests mean revenue?"
   ]
  },
  {
   "cell_type": "code",
   "execution_count": 56,
   "metadata": {},
   "outputs": [
    {
     "data": {
      "text/html": [
       "<div>\n",
       "<style scoped>\n",
       "    .dataframe tbody tr th:only-of-type {\n",
       "        vertical-align: middle;\n",
       "    }\n",
       "\n",
       "    .dataframe tbody tr th {\n",
       "        vertical-align: top;\n",
       "    }\n",
       "\n",
       "    .dataframe thead th {\n",
       "        text-align: right;\n",
       "    }\n",
       "</style>\n",
       "<table border=\"1\" class=\"dataframe\">\n",
       "  <thead>\n",
       "    <tr style=\"text-align: right;\">\n",
       "      <th></th>\n",
       "      <th>id</th>\n",
       "      <th>original_title</th>\n",
       "      <th>cast</th>\n",
       "      <th>director</th>\n",
       "      <th>runtime</th>\n",
       "      <th>genres</th>\n",
       "      <th>release_date</th>\n",
       "      <th>vote_count</th>\n",
       "      <th>vote_average</th>\n",
       "      <th>release_year</th>\n",
       "      <th>budget_adj_2010</th>\n",
       "      <th>revenue_adj_2010</th>\n",
       "    </tr>\n",
       "  </thead>\n",
       "  <tbody>\n",
       "    <tr>\n",
       "      <th>0</th>\n",
       "      <td>135397</td>\n",
       "      <td>Jurassic World</td>\n",
       "      <td>Chris Pratt|Bryce Dallas Howard|Irrfan Khan|Vi...</td>\n",
       "      <td>Colin Trevorrow</td>\n",
       "      <td>124.00</td>\n",
       "      <td>Action</td>\n",
       "      <td>2015-06-09</td>\n",
       "      <td>5562</td>\n",
       "      <td>6.50</td>\n",
       "      <td>2015</td>\n",
       "      <td>137999939</td>\n",
       "      <td>1392445892</td>\n",
       "    </tr>\n",
       "    <tr>\n",
       "      <th>0</th>\n",
       "      <td>135397</td>\n",
       "      <td>Jurassic World</td>\n",
       "      <td>Chris Pratt|Bryce Dallas Howard|Irrfan Khan|Vi...</td>\n",
       "      <td>Colin Trevorrow</td>\n",
       "      <td>124.00</td>\n",
       "      <td>Adventure</td>\n",
       "      <td>2015-06-09</td>\n",
       "      <td>5562</td>\n",
       "      <td>6.50</td>\n",
       "      <td>2015</td>\n",
       "      <td>137999939</td>\n",
       "      <td>1392445892</td>\n",
       "    </tr>\n",
       "    <tr>\n",
       "      <th>0</th>\n",
       "      <td>135397</td>\n",
       "      <td>Jurassic World</td>\n",
       "      <td>Chris Pratt|Bryce Dallas Howard|Irrfan Khan|Vi...</td>\n",
       "      <td>Colin Trevorrow</td>\n",
       "      <td>124.00</td>\n",
       "      <td>Science Fiction</td>\n",
       "      <td>2015-06-09</td>\n",
       "      <td>5562</td>\n",
       "      <td>6.50</td>\n",
       "      <td>2015</td>\n",
       "      <td>137999939</td>\n",
       "      <td>1392445892</td>\n",
       "    </tr>\n",
       "    <tr>\n",
       "      <th>0</th>\n",
       "      <td>135397</td>\n",
       "      <td>Jurassic World</td>\n",
       "      <td>Chris Pratt|Bryce Dallas Howard|Irrfan Khan|Vi...</td>\n",
       "      <td>Colin Trevorrow</td>\n",
       "      <td>124.00</td>\n",
       "      <td>Thriller</td>\n",
       "      <td>2015-06-09</td>\n",
       "      <td>5562</td>\n",
       "      <td>6.50</td>\n",
       "      <td>2015</td>\n",
       "      <td>137999939</td>\n",
       "      <td>1392445892</td>\n",
       "    </tr>\n",
       "    <tr>\n",
       "      <th>1</th>\n",
       "      <td>76341</td>\n",
       "      <td>Mad Max: Fury Road</td>\n",
       "      <td>Tom Hardy|Charlize Theron|Hugh Keays-Byrne|Nic...</td>\n",
       "      <td>George Miller</td>\n",
       "      <td>120.00</td>\n",
       "      <td>Action</td>\n",
       "      <td>2015-05-13</td>\n",
       "      <td>6185</td>\n",
       "      <td>7.10</td>\n",
       "      <td>2015</td>\n",
       "      <td>137999939</td>\n",
       "      <td>348161292</td>\n",
       "    </tr>\n",
       "  </tbody>\n",
       "</table>\n",
       "</div>"
      ],
      "text/plain": [
       "       id      original_title  \\\n",
       "0  135397      Jurassic World   \n",
       "0  135397      Jurassic World   \n",
       "0  135397      Jurassic World   \n",
       "0  135397      Jurassic World   \n",
       "1   76341  Mad Max: Fury Road   \n",
       "\n",
       "                                                cast         director  \\\n",
       "0  Chris Pratt|Bryce Dallas Howard|Irrfan Khan|Vi...  Colin Trevorrow   \n",
       "0  Chris Pratt|Bryce Dallas Howard|Irrfan Khan|Vi...  Colin Trevorrow   \n",
       "0  Chris Pratt|Bryce Dallas Howard|Irrfan Khan|Vi...  Colin Trevorrow   \n",
       "0  Chris Pratt|Bryce Dallas Howard|Irrfan Khan|Vi...  Colin Trevorrow   \n",
       "1  Tom Hardy|Charlize Theron|Hugh Keays-Byrne|Nic...    George Miller   \n",
       "\n",
       "   runtime           genres release_date  vote_count  vote_average  \\\n",
       "0   124.00           Action   2015-06-09        5562          6.50   \n",
       "0   124.00        Adventure   2015-06-09        5562          6.50   \n",
       "0   124.00  Science Fiction   2015-06-09        5562          6.50   \n",
       "0   124.00         Thriller   2015-06-09        5562          6.50   \n",
       "1   120.00           Action   2015-05-13        6185          7.10   \n",
       "\n",
       "   release_year  budget_adj_2010  revenue_adj_2010  \n",
       "0          2015        137999939        1392445892  \n",
       "0          2015        137999939        1392445892  \n",
       "0          2015        137999939        1392445892  \n",
       "0          2015        137999939        1392445892  \n",
       "1          2015        137999939         348161292  "
      ]
     },
     "execution_count": 56,
     "metadata": {},
     "output_type": "execute_result"
    }
   ],
   "source": [
    "#splits a string into a list, to create a list of genres per row\n",
    "df_zero_clean = df_zero_clean.assign(genres = df_zero_clean['genres'].str.split('|'))\n",
    "#transforms each element of the list into separate rows\n",
    "df_zero_clean = df_zero_clean.explode('genres')\n",
    "#checks changes in the number of rows\n",
    "df_zero_clean.head()"
   ]
  },
  {
   "cell_type": "code",
   "execution_count": 57,
   "metadata": {},
   "outputs": [
    {
     "data": {
      "text/plain": [
       "genres\n",
       "Foreign            12.87\n",
       "Documentary        26.95\n",
       "TV Movie           58.39\n",
       "Horror             81.41\n",
       "Drama             101.54\n",
       "Crime             110.40\n",
       "Mystery           113.62\n",
       "Romance           113.84\n",
       "Comedy            121.48\n",
       "History           121.66\n",
       "Thriller          128.28\n",
       "Western           135.67\n",
       "Music             136.57\n",
       "War               155.90\n",
       "Action            195.39\n",
       "Science Fiction   202.15\n",
       "Family            243.79\n",
       "Fantasy           249.99\n",
       "Adventure         271.41\n",
       "Animation         290.96\n",
       "Name: revenue_adj_2010, dtype: float64"
      ]
     },
     "execution_count": 57,
     "metadata": {},
     "output_type": "execute_result"
    }
   ],
   "source": [
    "#group the data by genre and find the mean revenue\n",
    "revenue_mean_genre = df_zero_clean.groupby('genres').revenue_adj_2010.mean()/1000000\n",
    "#sorts in ascending order\n",
    "revenue_mean_genre.sort_values()"
   ]
  },
  {
   "cell_type": "code",
   "execution_count": 58,
   "metadata": {},
   "outputs": [
    {
     "data": {
      "image/png": "[encoded data removed]",
      "text/plain": [
       "<Figure size 1008x576 with 1 Axes>"
      ]
     },
     "metadata": {},
     "output_type": "display_data"
    }
   ],
   "source": [
    "#sets bar chart's size (width, height)\n",
    "plt.figure(figsize=(14, 8))\n",
    "#plots the bar chart\n",
    "ax = revenue_mean_genre.sort_values().plot.barh(color=\"indigo\")\n",
    "#sets title and labels\n",
    "ax.set_title(\"Movie genres with the highests mean revenue\", fontsize=14)\n",
    "ax.set_ylabel('Movies genres', fontsize=12)\n",
    "ax.set_xlabel(\"Mean revenue in million of 2010 U$\", fontsize=12);"
   ]
  },
  {
   "cell_type": "markdown",
   "metadata": {},
   "source": [
    ">**Note:**\n",
    ">It possible to notice from the chart that the mean revenue of movie genres vary from 12.87 to 290.96 million of 2010 U$. Animation is the genre with the highests mean and Foreign the lowest."
   ]
  },
  {
   "cell_type": "markdown",
   "metadata": {},
   "source": [
    "<a id='conclusions'></a>\n",
    "## Conclusions"
   ]
  },
  {
   "cell_type": "markdown",
   "metadata": {},
   "source": [
    "1. In terms of the highest “vote average” mean, in a 0 to 10 scale, the top three movies genres in the TMDb movie dataset are: Documentary, with 6.91; Music, with 6.47; and History, with 6.41. The genres with the 3 lowest means are: Horror, with 5.34; Science Fiction, with 5.66;  and TV Movie, with 5.75. This means that, in an analysis per genres, Documentary, Music and History are the most successful genres in terms of mean critic/public average ratings.\n",
    "2. Selecting only the movies with the 25% highest vote averages, it is possible to notice they have a very similar “vote average” mean per genre, all of them in the same level, around 7. The top three movies genres are: Documentary, with 7.31; Music, with 7.25; and Animation, with 7.16. This means that among the most well rated movies, these are the genres that stand out.\n",
    "3. It seems to be a slightly positive relationship between budget and revenue. The assumption that higher budgets are able to produce higher revenues may look reasonable, but this is not what is observed from this data. In this analysis, the correlation is not very strong. For this reason, budget is not likely to be a good indicator for high movies revenue .\n",
    "4. The movie genres with the highest mean revenue are: Animation, with 290.96 million dollars (2010); Adventure, with 271.41 million dollars (2010); and Fantasy, with 249.99 million dollars (2010). This means that, from a financial perpective, these are the most sucessful movies genres in the TMDb movie dataset in terms of mean revenues."
   ]
  },
  {
   "cell_type": "markdown",
   "metadata": {},
   "source": [
    "## Limitations:"
   ]
  },
  {
   "cell_type": "markdown",
   "metadata": {},
   "source": [
    "* There are many limitations to the presented analysis, some of them are:\n",
    "1. The vote_average variable depends on the amount of votes a movie receive, which is the vote_count variable. But movies do not receive votes equally. Some of them receive thousands and others just a few. In a certain way, this number of votes can also be considered as an indicative of a movie’s relevance, meaning rejection or popularity. This unequal number of votes  directly interfere on vote averages, potentially, leading to bias. \n",
    "2. The “df” and the “df_zero_clean” data frames are significantly different. The second has considerably less data than the first one. For this reason, the analysis made using the “df_zero_clean” is much more limited compared to the original cleaned data frame, which has the complete set of data. This also can lead to bias in the analysis."
   ]
  },
  {
   "cell_type": "markdown",
   "metadata": {},
   "source": [
    "## References"
   ]
  },
  {
   "cell_type": "markdown",
   "metadata": {},
   "source": [
    "* https://stackoverflow.com/questions/43956335/convert-float64-column-to-int64-in-pandas\n",
    "* https://pandas.pydata.org/pandas-docs/stable/reference/api/pandas.DataFrame.copy.html\n",
    "* https://www.kaggle.com/tmdb/tmdb-movie-metadata/discussion/45990\n",
    "* https://cursos.alura.com.br/forum/topico-casas-decimais-dataset-describe-105807\n",
    "* https://stackoverflow.com/questions/21137150/format-suppress-scientific-notation-from-python-pandas-aggregation-results\n",
    "* https://stackoverflow.com/questions/52203981/plot-graph-of-the-same-variable-from-two-different-dataframes-in-python\n",
    "* https://www.kite.com/python/answers/how-to-change-the-axis-scales-of-a-plot-by-a-factor-in-matplotlib-in-python\n",
    "* https://www.mikulskibartosz.name/how-to-remove-outliers-from-seaborn-boxplot-charts/\n",
    "* https://gist.github.com/Den1al/5b65c88c791a700dbf4482c41d253727\n",
    "* https://python-graph-gallery.com/196-select-one-color-with-matplotlib/\n",
    "* https://seaborn.pydata.org/generated/seaborn.boxplot.html"
   ]
  }
 ],
 "metadata": {
  "kernelspec": {
   "display_name": "Python 3",
   "language": "python",
   "name": "python3"
  },
  "language_info": {
   "codemirror_mode": {
    "name": "ipython",
    "version": 3
   },
   "file_extension": ".py",
   "mimetype": "text/x-python",
   "name": "python",
   "nbconvert_exporter": "python",
   "pygments_lexer": "ipython3",
   "version": "3.8.5"
  }
 },
 "nbformat": 4,
 "nbformat_minor": 2
}
